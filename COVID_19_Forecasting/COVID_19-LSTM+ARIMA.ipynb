{
 "cells": [
  {
   "cell_type": "markdown",
   "metadata": {},
   "source": [
    "# COVID 19: Forecasting using ARIMA and LSTM"
   ]
  },
  {
   "cell_type": "code",
   "execution_count": 1,
   "metadata": {},
   "outputs": [
    {
     "data": {
      "application/javascript": [
       "\n",
       "            setTimeout(function() {\n",
       "                var nbb_cell_id = 1;\n",
       "                var nbb_unformatted_code = \"import pandas as pd\\nimport numpy as np\\nimport matplotlib.pyplot as plt\\nimport math\\nfrom keras.models import Sequential\\nfrom keras.layers import Dense\\nfrom keras.layers import LSTM\\nfrom sklearn.preprocessing import MinMaxScaler\\nfrom sklearn.metrics import mean_squared_error\\nfrom statsmodels.tsa.arima_model import ARIMA\\nfrom pandas.plotting import autocorrelation_plot\\n\\n%load_ext nb_black\";\n",
       "                var nbb_formatted_code = \"import pandas as pd\\nimport numpy as np\\nimport matplotlib.pyplot as plt\\nimport math\\nfrom keras.models import Sequential\\nfrom keras.layers import Dense\\nfrom keras.layers import LSTM\\nfrom sklearn.preprocessing import MinMaxScaler\\nfrom sklearn.metrics import mean_squared_error\\nfrom statsmodels.tsa.arima_model import ARIMA\\nfrom pandas.plotting import autocorrelation_plot\\n\\n%load_ext nb_black\";\n",
       "                var nbb_cells = Jupyter.notebook.get_cells();\n",
       "                for (var i = 0; i < nbb_cells.length; ++i) {\n",
       "                    if (nbb_cells[i].input_prompt_number == nbb_cell_id) {\n",
       "                        if (nbb_cells[i].get_text() == nbb_unformatted_code) {\n",
       "                             nbb_cells[i].set_text(nbb_formatted_code);\n",
       "                        }\n",
       "                        break;\n",
       "                    }\n",
       "                }\n",
       "            }, 500);\n",
       "            "
      ],
      "text/plain": [
       "<IPython.core.display.Javascript object>"
      ]
     },
     "metadata": {},
     "output_type": "display_data"
    }
   ],
   "source": [
    "import pandas as pd\n",
    "import numpy as np\n",
    "import matplotlib.pyplot as plt\n",
    "import math\n",
    "from keras.models import Sequential\n",
    "from keras.layers import Dense\n",
    "from keras.layers import LSTM\n",
    "from sklearn.preprocessing import MinMaxScaler\n",
    "from sklearn.metrics import mean_squared_error\n",
    "from statsmodels.tsa.arima_model import ARIMA\n",
    "from pandas.plotting import autocorrelation_plot\n",
    "\n",
    "%load_ext nb_black"
   ]
  },
  {
   "cell_type": "code",
   "execution_count": 2,
   "metadata": {},
   "outputs": [
    {
     "data": {
      "application/javascript": [
       "\n",
       "            setTimeout(function() {\n",
       "                var nbb_cell_id = 2;\n",
       "                var nbb_unformatted_code = \"import warnings\\n\\nwarnings.filterwarnings(\\\"ignore\\\")\";\n",
       "                var nbb_formatted_code = \"import warnings\\n\\nwarnings.filterwarnings(\\\"ignore\\\")\";\n",
       "                var nbb_cells = Jupyter.notebook.get_cells();\n",
       "                for (var i = 0; i < nbb_cells.length; ++i) {\n",
       "                    if (nbb_cells[i].input_prompt_number == nbb_cell_id) {\n",
       "                        if (nbb_cells[i].get_text() == nbb_unformatted_code) {\n",
       "                             nbb_cells[i].set_text(nbb_formatted_code);\n",
       "                        }\n",
       "                        break;\n",
       "                    }\n",
       "                }\n",
       "            }, 500);\n",
       "            "
      ],
      "text/plain": [
       "<IPython.core.display.Javascript object>"
      ]
     },
     "metadata": {},
     "output_type": "display_data"
    }
   ],
   "source": [
    "import warnings\n",
    "\n",
    "warnings.filterwarnings(\"ignore\")"
   ]
  },
  {
   "cell_type": "markdown",
   "metadata": {},
   "source": [
    "## Data Sources"
   ]
  },
  {
   "cell_type": "code",
   "execution_count": 3,
   "metadata": {},
   "outputs": [
    {
     "data": {
      "application/javascript": [
       "\n",
       "            setTimeout(function() {\n",
       "                var nbb_cell_id = 3;\n",
       "                var nbb_unformatted_code = \"confirmed_df = pd.read_csv(\\\"data/confirmed_df.csv\\\", parse_dates=[\\\"Date\\\"])\\ndeaths_df = pd.read_csv(\\\"data/deaths_df.csv\\\", parse_dates=[\\\"Date\\\"])\\nrecovered_df = pd.read_csv(\\\"data/recovered_df.csv\\\", parse_dates=[\\\"Date\\\"])\";\n",
       "                var nbb_formatted_code = \"confirmed_df = pd.read_csv(\\\"data/confirmed_df.csv\\\", parse_dates=[\\\"Date\\\"])\\ndeaths_df = pd.read_csv(\\\"data/deaths_df.csv\\\", parse_dates=[\\\"Date\\\"])\\nrecovered_df = pd.read_csv(\\\"data/recovered_df.csv\\\", parse_dates=[\\\"Date\\\"])\";\n",
       "                var nbb_cells = Jupyter.notebook.get_cells();\n",
       "                for (var i = 0; i < nbb_cells.length; ++i) {\n",
       "                    if (nbb_cells[i].input_prompt_number == nbb_cell_id) {\n",
       "                        if (nbb_cells[i].get_text() == nbb_unformatted_code) {\n",
       "                             nbb_cells[i].set_text(nbb_formatted_code);\n",
       "                        }\n",
       "                        break;\n",
       "                    }\n",
       "                }\n",
       "            }, 500);\n",
       "            "
      ],
      "text/plain": [
       "<IPython.core.display.Javascript object>"
      ]
     },
     "metadata": {},
     "output_type": "display_data"
    }
   ],
   "source": [
    "confirmed_df = pd.read_csv(\"data/confirmed_df.csv\", parse_dates=[\"Date\"])\n",
    "deaths_df = pd.read_csv(\"data/deaths_df.csv\", parse_dates=[\"Date\"])\n",
    "recovered_df = pd.read_csv(\"data/recovered_df.csv\", parse_dates=[\"Date\"])"
   ]
  },
  {
   "cell_type": "code",
   "execution_count": 4,
   "metadata": {},
   "outputs": [
    {
     "data": {
      "application/javascript": [
       "\n",
       "            setTimeout(function() {\n",
       "                var nbb_cell_id = 4;\n",
       "                var nbb_unformatted_code = \"# Dropping Serial Number\\nconfirmed_df.drop([\\\"SNo\\\"], axis=1, inplace=True)\\ndeaths_df.drop([\\\"SNo\\\"], axis=1, inplace=True)\\nrecovered_df.drop([\\\"SNo\\\"], axis=1, inplace=True)\";\n",
       "                var nbb_formatted_code = \"# Dropping Serial Number\\nconfirmed_df.drop([\\\"SNo\\\"], axis=1, inplace=True)\\ndeaths_df.drop([\\\"SNo\\\"], axis=1, inplace=True)\\nrecovered_df.drop([\\\"SNo\\\"], axis=1, inplace=True)\";\n",
       "                var nbb_cells = Jupyter.notebook.get_cells();\n",
       "                for (var i = 0; i < nbb_cells.length; ++i) {\n",
       "                    if (nbb_cells[i].input_prompt_number == nbb_cell_id) {\n",
       "                        if (nbb_cells[i].get_text() == nbb_unformatted_code) {\n",
       "                             nbb_cells[i].set_text(nbb_formatted_code);\n",
       "                        }\n",
       "                        break;\n",
       "                    }\n",
       "                }\n",
       "            }, 500);\n",
       "            "
      ],
      "text/plain": [
       "<IPython.core.display.Javascript object>"
      ]
     },
     "metadata": {},
     "output_type": "display_data"
    }
   ],
   "source": [
    "# Dropping Serial Number\n",
    "confirmed_df.drop([\"SNo\"], axis=1, inplace=True)\n",
    "deaths_df.drop([\"SNo\"], axis=1, inplace=True)\n",
    "recovered_df.drop([\"SNo\"], axis=1, inplace=True)"
   ]
  },
  {
   "cell_type": "code",
   "execution_count": 5,
   "metadata": {},
   "outputs": [
    {
     "data": {
      "text/html": [
       "<div>\n",
       "<style scoped>\n",
       "    .dataframe tbody tr th:only-of-type {\n",
       "        vertical-align: middle;\n",
       "    }\n",
       "\n",
       "    .dataframe tbody tr th {\n",
       "        vertical-align: top;\n",
       "    }\n",
       "\n",
       "    .dataframe thead th {\n",
       "        text-align: right;\n",
       "    }\n",
       "</style>\n",
       "<table border=\"1\" class=\"dataframe\">\n",
       "  <thead>\n",
       "    <tr style=\"text-align: right;\">\n",
       "      <th></th>\n",
       "      <th>Date</th>\n",
       "      <th>Province/State</th>\n",
       "      <th>Country</th>\n",
       "      <th>Confirmed</th>\n",
       "    </tr>\n",
       "  </thead>\n",
       "  <tbody>\n",
       "    <tr>\n",
       "      <th>0</th>\n",
       "      <td>2020-01-22</td>\n",
       "      <td>Hong Kong</td>\n",
       "      <td>Hong Kong</td>\n",
       "      <td>0.0</td>\n",
       "    </tr>\n",
       "    <tr>\n",
       "      <th>1</th>\n",
       "      <td>2020-01-22</td>\n",
       "      <td>Macau</td>\n",
       "      <td>Macau</td>\n",
       "      <td>1.0</td>\n",
       "    </tr>\n",
       "    <tr>\n",
       "      <th>2</th>\n",
       "      <td>2020-01-22</td>\n",
       "      <td>Anhui</td>\n",
       "      <td>Mainland China</td>\n",
       "      <td>1.0</td>\n",
       "    </tr>\n",
       "    <tr>\n",
       "      <th>3</th>\n",
       "      <td>2020-01-22</td>\n",
       "      <td>Beijing</td>\n",
       "      <td>Mainland China</td>\n",
       "      <td>14.0</td>\n",
       "    </tr>\n",
       "    <tr>\n",
       "      <th>4</th>\n",
       "      <td>2020-01-22</td>\n",
       "      <td>Chongqing</td>\n",
       "      <td>Mainland China</td>\n",
       "      <td>6.0</td>\n",
       "    </tr>\n",
       "  </tbody>\n",
       "</table>\n",
       "</div>"
      ],
      "text/plain": [
       "        Date Province/State         Country  Confirmed\n",
       "0 2020-01-22      Hong Kong       Hong Kong        0.0\n",
       "1 2020-01-22          Macau           Macau        1.0\n",
       "2 2020-01-22          Anhui  Mainland China        1.0\n",
       "3 2020-01-22        Beijing  Mainland China       14.0\n",
       "4 2020-01-22      Chongqing  Mainland China        6.0"
      ]
     },
     "execution_count": 5,
     "metadata": {},
     "output_type": "execute_result"
    },
    {
     "data": {
      "application/javascript": [
       "\n",
       "            setTimeout(function() {\n",
       "                var nbb_cell_id = 5;\n",
       "                var nbb_unformatted_code = \"confirmed_df.head()\";\n",
       "                var nbb_formatted_code = \"confirmed_df.head()\";\n",
       "                var nbb_cells = Jupyter.notebook.get_cells();\n",
       "                for (var i = 0; i < nbb_cells.length; ++i) {\n",
       "                    if (nbb_cells[i].input_prompt_number == nbb_cell_id) {\n",
       "                        if (nbb_cells[i].get_text() == nbb_unformatted_code) {\n",
       "                             nbb_cells[i].set_text(nbb_formatted_code);\n",
       "                        }\n",
       "                        break;\n",
       "                    }\n",
       "                }\n",
       "            }, 500);\n",
       "            "
      ],
      "text/plain": [
       "<IPython.core.display.Javascript object>"
      ]
     },
     "metadata": {},
     "output_type": "display_data"
    }
   ],
   "source": [
    "confirmed_df.head()"
   ]
  },
  {
   "cell_type": "code",
   "execution_count": 6,
   "metadata": {},
   "outputs": [
    {
     "data": {
      "text/html": [
       "<div>\n",
       "<style scoped>\n",
       "    .dataframe tbody tr th:only-of-type {\n",
       "        vertical-align: middle;\n",
       "    }\n",
       "\n",
       "    .dataframe tbody tr th {\n",
       "        vertical-align: top;\n",
       "    }\n",
       "\n",
       "    .dataframe thead th {\n",
       "        text-align: right;\n",
       "    }\n",
       "</style>\n",
       "<table border=\"1\" class=\"dataframe\">\n",
       "  <thead>\n",
       "    <tr style=\"text-align: right;\">\n",
       "      <th></th>\n",
       "      <th>Date</th>\n",
       "      <th>Province/State</th>\n",
       "      <th>Country</th>\n",
       "      <th>Deaths</th>\n",
       "    </tr>\n",
       "  </thead>\n",
       "  <tbody>\n",
       "    <tr>\n",
       "      <th>0</th>\n",
       "      <td>2020-01-22</td>\n",
       "      <td>Hong Kong</td>\n",
       "      <td>Hong Kong</td>\n",
       "      <td>0.0</td>\n",
       "    </tr>\n",
       "    <tr>\n",
       "      <th>1</th>\n",
       "      <td>2020-01-22</td>\n",
       "      <td>Macau</td>\n",
       "      <td>Macau</td>\n",
       "      <td>0.0</td>\n",
       "    </tr>\n",
       "    <tr>\n",
       "      <th>2</th>\n",
       "      <td>2020-01-22</td>\n",
       "      <td>Anhui</td>\n",
       "      <td>Mainland China</td>\n",
       "      <td>0.0</td>\n",
       "    </tr>\n",
       "    <tr>\n",
       "      <th>3</th>\n",
       "      <td>2020-01-22</td>\n",
       "      <td>Beijing</td>\n",
       "      <td>Mainland China</td>\n",
       "      <td>0.0</td>\n",
       "    </tr>\n",
       "    <tr>\n",
       "      <th>4</th>\n",
       "      <td>2020-01-22</td>\n",
       "      <td>Chongqing</td>\n",
       "      <td>Mainland China</td>\n",
       "      <td>0.0</td>\n",
       "    </tr>\n",
       "  </tbody>\n",
       "</table>\n",
       "</div>"
      ],
      "text/plain": [
       "        Date Province/State         Country  Deaths\n",
       "0 2020-01-22      Hong Kong       Hong Kong     0.0\n",
       "1 2020-01-22          Macau           Macau     0.0\n",
       "2 2020-01-22          Anhui  Mainland China     0.0\n",
       "3 2020-01-22        Beijing  Mainland China     0.0\n",
       "4 2020-01-22      Chongqing  Mainland China     0.0"
      ]
     },
     "execution_count": 6,
     "metadata": {},
     "output_type": "execute_result"
    },
    {
     "data": {
      "application/javascript": [
       "\n",
       "            setTimeout(function() {\n",
       "                var nbb_cell_id = 6;\n",
       "                var nbb_unformatted_code = \"deaths_df.head()\";\n",
       "                var nbb_formatted_code = \"deaths_df.head()\";\n",
       "                var nbb_cells = Jupyter.notebook.get_cells();\n",
       "                for (var i = 0; i < nbb_cells.length; ++i) {\n",
       "                    if (nbb_cells[i].input_prompt_number == nbb_cell_id) {\n",
       "                        if (nbb_cells[i].get_text() == nbb_unformatted_code) {\n",
       "                             nbb_cells[i].set_text(nbb_formatted_code);\n",
       "                        }\n",
       "                        break;\n",
       "                    }\n",
       "                }\n",
       "            }, 500);\n",
       "            "
      ],
      "text/plain": [
       "<IPython.core.display.Javascript object>"
      ]
     },
     "metadata": {},
     "output_type": "display_data"
    }
   ],
   "source": [
    "deaths_df.head()"
   ]
  },
  {
   "cell_type": "code",
   "execution_count": 7,
   "metadata": {},
   "outputs": [
    {
     "data": {
      "text/html": [
       "<div>\n",
       "<style scoped>\n",
       "    .dataframe tbody tr th:only-of-type {\n",
       "        vertical-align: middle;\n",
       "    }\n",
       "\n",
       "    .dataframe tbody tr th {\n",
       "        vertical-align: top;\n",
       "    }\n",
       "\n",
       "    .dataframe thead th {\n",
       "        text-align: right;\n",
       "    }\n",
       "</style>\n",
       "<table border=\"1\" class=\"dataframe\">\n",
       "  <thead>\n",
       "    <tr style=\"text-align: right;\">\n",
       "      <th></th>\n",
       "      <th>Date</th>\n",
       "      <th>Province/State</th>\n",
       "      <th>Country</th>\n",
       "      <th>Recovered</th>\n",
       "    </tr>\n",
       "  </thead>\n",
       "  <tbody>\n",
       "    <tr>\n",
       "      <th>0</th>\n",
       "      <td>2020-01-22</td>\n",
       "      <td>Hong Kong</td>\n",
       "      <td>Hong Kong</td>\n",
       "      <td>0.0</td>\n",
       "    </tr>\n",
       "    <tr>\n",
       "      <th>1</th>\n",
       "      <td>2020-01-22</td>\n",
       "      <td>Macau</td>\n",
       "      <td>Macau</td>\n",
       "      <td>0.0</td>\n",
       "    </tr>\n",
       "    <tr>\n",
       "      <th>2</th>\n",
       "      <td>2020-01-22</td>\n",
       "      <td>Anhui</td>\n",
       "      <td>Mainland China</td>\n",
       "      <td>0.0</td>\n",
       "    </tr>\n",
       "    <tr>\n",
       "      <th>3</th>\n",
       "      <td>2020-01-22</td>\n",
       "      <td>Beijing</td>\n",
       "      <td>Mainland China</td>\n",
       "      <td>0.0</td>\n",
       "    </tr>\n",
       "    <tr>\n",
       "      <th>4</th>\n",
       "      <td>2020-01-22</td>\n",
       "      <td>Chongqing</td>\n",
       "      <td>Mainland China</td>\n",
       "      <td>0.0</td>\n",
       "    </tr>\n",
       "  </tbody>\n",
       "</table>\n",
       "</div>"
      ],
      "text/plain": [
       "        Date Province/State         Country  Recovered\n",
       "0 2020-01-22      Hong Kong       Hong Kong        0.0\n",
       "1 2020-01-22          Macau           Macau        0.0\n",
       "2 2020-01-22          Anhui  Mainland China        0.0\n",
       "3 2020-01-22        Beijing  Mainland China        0.0\n",
       "4 2020-01-22      Chongqing  Mainland China        0.0"
      ]
     },
     "execution_count": 7,
     "metadata": {},
     "output_type": "execute_result"
    },
    {
     "data": {
      "application/javascript": [
       "\n",
       "            setTimeout(function() {\n",
       "                var nbb_cell_id = 7;\n",
       "                var nbb_unformatted_code = \"recovered_df.head()\";\n",
       "                var nbb_formatted_code = \"recovered_df.head()\";\n",
       "                var nbb_cells = Jupyter.notebook.get_cells();\n",
       "                for (var i = 0; i < nbb_cells.length; ++i) {\n",
       "                    if (nbb_cells[i].input_prompt_number == nbb_cell_id) {\n",
       "                        if (nbb_cells[i].get_text() == nbb_unformatted_code) {\n",
       "                             nbb_cells[i].set_text(nbb_formatted_code);\n",
       "                        }\n",
       "                        break;\n",
       "                    }\n",
       "                }\n",
       "            }, 500);\n",
       "            "
      ],
      "text/plain": [
       "<IPython.core.display.Javascript object>"
      ]
     },
     "metadata": {},
     "output_type": "display_data"
    }
   ],
   "source": [
    "recovered_df.head()"
   ]
  },
  {
   "cell_type": "code",
   "execution_count": 8,
   "metadata": {},
   "outputs": [
    {
     "data": {
      "application/javascript": [
       "\n",
       "            setTimeout(function() {\n",
       "                var nbb_cell_id = 8;\n",
       "                var nbb_unformatted_code = \"confirmed_world_df = (\\n    confirmed_df.groupby(\\\"Date\\\")[\\\"Confirmed\\\"]\\n    .sum()\\n    .sort_values(axis=\\\"index\\\")\\n    .reset_index()\\n)\";\n",
       "                var nbb_formatted_code = \"confirmed_world_df = (\\n    confirmed_df.groupby(\\\"Date\\\")[\\\"Confirmed\\\"]\\n    .sum()\\n    .sort_values(axis=\\\"index\\\")\\n    .reset_index()\\n)\";\n",
       "                var nbb_cells = Jupyter.notebook.get_cells();\n",
       "                for (var i = 0; i < nbb_cells.length; ++i) {\n",
       "                    if (nbb_cells[i].input_prompt_number == nbb_cell_id) {\n",
       "                        if (nbb_cells[i].get_text() == nbb_unformatted_code) {\n",
       "                             nbb_cells[i].set_text(nbb_formatted_code);\n",
       "                        }\n",
       "                        break;\n",
       "                    }\n",
       "                }\n",
       "            }, 500);\n",
       "            "
      ],
      "text/plain": [
       "<IPython.core.display.Javascript object>"
      ]
     },
     "metadata": {},
     "output_type": "display_data"
    }
   ],
   "source": [
    "confirmed_world_df = (\n",
    "    confirmed_df.groupby(\"Date\")[\"Confirmed\"]\n",
    "    .sum()\n",
    "    .sort_values(axis=\"index\")\n",
    "    .reset_index()\n",
    ")"
   ]
  },
  {
   "cell_type": "code",
   "execution_count": 9,
   "metadata": {},
   "outputs": [
    {
     "data": {
      "application/javascript": [
       "\n",
       "            setTimeout(function() {\n",
       "                var nbb_cell_id = 9;\n",
       "                var nbb_unformatted_code = \"recovered_world_df = (\\n    recovered_df.groupby(\\\"Date\\\")[\\\"Recovered\\\"]\\n    .sum()\\n    .sort_values(axis=\\\"index\\\")\\n    .reset_index()\\n)\";\n",
       "                var nbb_formatted_code = \"recovered_world_df = (\\n    recovered_df.groupby(\\\"Date\\\")[\\\"Recovered\\\"]\\n    .sum()\\n    .sort_values(axis=\\\"index\\\")\\n    .reset_index()\\n)\";\n",
       "                var nbb_cells = Jupyter.notebook.get_cells();\n",
       "                for (var i = 0; i < nbb_cells.length; ++i) {\n",
       "                    if (nbb_cells[i].input_prompt_number == nbb_cell_id) {\n",
       "                        if (nbb_cells[i].get_text() == nbb_unformatted_code) {\n",
       "                             nbb_cells[i].set_text(nbb_formatted_code);\n",
       "                        }\n",
       "                        break;\n",
       "                    }\n",
       "                }\n",
       "            }, 500);\n",
       "            "
      ],
      "text/plain": [
       "<IPython.core.display.Javascript object>"
      ]
     },
     "metadata": {},
     "output_type": "display_data"
    }
   ],
   "source": [
    "recovered_world_df = (\n",
    "    recovered_df.groupby(\"Date\")[\"Recovered\"]\n",
    "    .sum()\n",
    "    .sort_values(axis=\"index\")\n",
    "    .reset_index()\n",
    ")"
   ]
  },
  {
   "cell_type": "code",
   "execution_count": 10,
   "metadata": {},
   "outputs": [
    {
     "data": {
      "application/javascript": [
       "\n",
       "            setTimeout(function() {\n",
       "                var nbb_cell_id = 10;\n",
       "                var nbb_unformatted_code = \"deaths_world_df = (\\n    deaths_df.groupby(\\\"Date\\\")[\\\"Deaths\\\"].sum().sort_values(axis=\\\"index\\\").reset_index()\\n)\";\n",
       "                var nbb_formatted_code = \"deaths_world_df = (\\n    deaths_df.groupby(\\\"Date\\\")[\\\"Deaths\\\"].sum().sort_values(axis=\\\"index\\\").reset_index()\\n)\";\n",
       "                var nbb_cells = Jupyter.notebook.get_cells();\n",
       "                for (var i = 0; i < nbb_cells.length; ++i) {\n",
       "                    if (nbb_cells[i].input_prompt_number == nbb_cell_id) {\n",
       "                        if (nbb_cells[i].get_text() == nbb_unformatted_code) {\n",
       "                             nbb_cells[i].set_text(nbb_formatted_code);\n",
       "                        }\n",
       "                        break;\n",
       "                    }\n",
       "                }\n",
       "            }, 500);\n",
       "            "
      ],
      "text/plain": [
       "<IPython.core.display.Javascript object>"
      ]
     },
     "metadata": {},
     "output_type": "display_data"
    }
   ],
   "source": [
    "deaths_world_df = (\n",
    "    deaths_df.groupby(\"Date\")[\"Deaths\"].sum().sort_values(axis=\"index\").reset_index()\n",
    ")"
   ]
  },
  {
   "cell_type": "markdown",
   "metadata": {},
   "source": [
    "## LSTM"
   ]
  },
  {
   "cell_type": "code",
   "execution_count": 11,
   "metadata": {},
   "outputs": [
    {
     "data": {
      "application/javascript": [
       "\n",
       "            setTimeout(function() {\n",
       "                var nbb_cell_id = 11;\n",
       "                var nbb_unformatted_code = \"look_back = 1\\nscaler = MinMaxScaler(feature_range=(0, 1))\";\n",
       "                var nbb_formatted_code = \"look_back = 1\\nscaler = MinMaxScaler(feature_range=(0, 1))\";\n",
       "                var nbb_cells = Jupyter.notebook.get_cells();\n",
       "                for (var i = 0; i < nbb_cells.length; ++i) {\n",
       "                    if (nbb_cells[i].input_prompt_number == nbb_cell_id) {\n",
       "                        if (nbb_cells[i].get_text() == nbb_unformatted_code) {\n",
       "                             nbb_cells[i].set_text(nbb_formatted_code);\n",
       "                        }\n",
       "                        break;\n",
       "                    }\n",
       "                }\n",
       "            }, 500);\n",
       "            "
      ],
      "text/plain": [
       "<IPython.core.display.Javascript object>"
      ]
     },
     "metadata": {},
     "output_type": "display_data"
    }
   ],
   "source": [
    "look_back = 1\n",
    "scaler = MinMaxScaler(feature_range=(0, 1))"
   ]
  },
  {
   "cell_type": "code",
   "execution_count": 12,
   "metadata": {},
   "outputs": [
    {
     "data": {
      "application/javascript": [
       "\n",
       "            setTimeout(function() {\n",
       "                var nbb_cell_id = 12;\n",
       "                var nbb_unformatted_code = \"# convert an array of values into a dataset matrix\\ndef create_dataset(dataset, look_back=1):\\n    dataX, dataY = [], []\\n    for i in range(len(dataset) - look_back - 1):\\n        a = dataset[i : (i + look_back), 0]\\n        dataX.append(a)\\n        dataY.append(dataset[i + look_back, 0])\\n    return np.array(dataX), np.array(dataY)\";\n",
       "                var nbb_formatted_code = \"# convert an array of values into a dataset matrix\\ndef create_dataset(dataset, look_back=1):\\n    dataX, dataY = [], []\\n    for i in range(len(dataset) - look_back - 1):\\n        a = dataset[i : (i + look_back), 0]\\n        dataX.append(a)\\n        dataY.append(dataset[i + look_back, 0])\\n    return np.array(dataX), np.array(dataY)\";\n",
       "                var nbb_cells = Jupyter.notebook.get_cells();\n",
       "                for (var i = 0; i < nbb_cells.length; ++i) {\n",
       "                    if (nbb_cells[i].input_prompt_number == nbb_cell_id) {\n",
       "                        if (nbb_cells[i].get_text() == nbb_unformatted_code) {\n",
       "                             nbb_cells[i].set_text(nbb_formatted_code);\n",
       "                        }\n",
       "                        break;\n",
       "                    }\n",
       "                }\n",
       "            }, 500);\n",
       "            "
      ],
      "text/plain": [
       "<IPython.core.display.Javascript object>"
      ]
     },
     "metadata": {},
     "output_type": "display_data"
    }
   ],
   "source": [
    "# convert an array of values into a dataset matrix\n",
    "def create_dataset(dataset, look_back=1):\n",
    "    dataX, dataY = [], []\n",
    "    for i in range(len(dataset) - look_back - 1):\n",
    "        a = dataset[i : (i + look_back), 0]\n",
    "        dataX.append(a)\n",
    "        dataY.append(dataset[i + look_back, 0])\n",
    "    return np.array(dataX), np.array(dataY)"
   ]
  },
  {
   "cell_type": "code",
   "execution_count": 13,
   "metadata": {},
   "outputs": [
    {
     "data": {
      "application/javascript": [
       "\n",
       "            setTimeout(function() {\n",
       "                var nbb_cell_id = 13;\n",
       "                var nbb_unformatted_code = \"def normalize_split(dataset):\\n    # normalize the dataset\\n    dataset = scaler.fit_transform(dataset)\\n\\n    # split into train and test sets\\n    train_size = int(len(dataset) * 0.67)\\n    test_size = len(dataset) - train_size\\n    train, test = dataset[0:train_size, :], dataset[train_size : len(dataset), :]\\n\\n    # reshape into X=t and Y=t+1\\n    trainX, trainY = create_dataset(train, look_back)\\n    testX, testY = create_dataset(test, look_back)\\n    # reshape input to be [samples, time steps, features]\\n    trainX = np.reshape(trainX, (trainX.shape[0], 1, trainX.shape[1]))\\n    testX = np.reshape(testX, (testX.shape[0], 1, testX.shape[1]))\\n\\n    return trainX, trainY, testX, testY\";\n",
       "                var nbb_formatted_code = \"def normalize_split(dataset):\\n    # normalize the dataset\\n    dataset = scaler.fit_transform(dataset)\\n\\n    # split into train and test sets\\n    train_size = int(len(dataset) * 0.67)\\n    test_size = len(dataset) - train_size\\n    train, test = dataset[0:train_size, :], dataset[train_size : len(dataset), :]\\n\\n    # reshape into X=t and Y=t+1\\n    trainX, trainY = create_dataset(train, look_back)\\n    testX, testY = create_dataset(test, look_back)\\n    # reshape input to be [samples, time steps, features]\\n    trainX = np.reshape(trainX, (trainX.shape[0], 1, trainX.shape[1]))\\n    testX = np.reshape(testX, (testX.shape[0], 1, testX.shape[1]))\\n\\n    return trainX, trainY, testX, testY\";\n",
       "                var nbb_cells = Jupyter.notebook.get_cells();\n",
       "                for (var i = 0; i < nbb_cells.length; ++i) {\n",
       "                    if (nbb_cells[i].input_prompt_number == nbb_cell_id) {\n",
       "                        if (nbb_cells[i].get_text() == nbb_unformatted_code) {\n",
       "                             nbb_cells[i].set_text(nbb_formatted_code);\n",
       "                        }\n",
       "                        break;\n",
       "                    }\n",
       "                }\n",
       "            }, 500);\n",
       "            "
      ],
      "text/plain": [
       "<IPython.core.display.Javascript object>"
      ]
     },
     "metadata": {},
     "output_type": "display_data"
    }
   ],
   "source": [
    "def normalize_split(dataset):\n",
    "    # normalize the dataset\n",
    "    dataset = scaler.fit_transform(dataset)\n",
    "\n",
    "    # split into train and test sets\n",
    "    train_size = int(len(dataset) * 0.67)\n",
    "    test_size = len(dataset) - train_size\n",
    "    train, test = dataset[0:train_size, :], dataset[train_size : len(dataset), :]\n",
    "\n",
    "    # reshape into X=t and Y=t+1\n",
    "    trainX, trainY = create_dataset(train, look_back)\n",
    "    testX, testY = create_dataset(test, look_back)\n",
    "    # reshape input to be [samples, time steps, features]\n",
    "    trainX = np.reshape(trainX, (trainX.shape[0], 1, trainX.shape[1]))\n",
    "    testX = np.reshape(testX, (testX.shape[0], 1, testX.shape[1]))\n",
    "\n",
    "    return trainX, trainY, testX, testY"
   ]
  },
  {
   "cell_type": "markdown",
   "metadata": {},
   "source": [
    "### Confirmed"
   ]
  },
  {
   "cell_type": "code",
   "execution_count": 14,
   "metadata": {},
   "outputs": [
    {
     "data": {
      "application/javascript": [
       "\n",
       "            setTimeout(function() {\n",
       "                var nbb_cell_id = 14;\n",
       "                var nbb_unformatted_code = \"(\\n    confirmed_train_X,\\n    confirmed_train_Y,\\n    confirmed_test_X,\\n    confirmed_test_Y,\\n) = normalize_split(confirmed_world_df[[\\\"Confirmed\\\"]])\";\n",
       "                var nbb_formatted_code = \"(\\n    confirmed_train_X,\\n    confirmed_train_Y,\\n    confirmed_test_X,\\n    confirmed_test_Y,\\n) = normalize_split(confirmed_world_df[[\\\"Confirmed\\\"]])\";\n",
       "                var nbb_cells = Jupyter.notebook.get_cells();\n",
       "                for (var i = 0; i < nbb_cells.length; ++i) {\n",
       "                    if (nbb_cells[i].input_prompt_number == nbb_cell_id) {\n",
       "                        if (nbb_cells[i].get_text() == nbb_unformatted_code) {\n",
       "                             nbb_cells[i].set_text(nbb_formatted_code);\n",
       "                        }\n",
       "                        break;\n",
       "                    }\n",
       "                }\n",
       "            }, 500);\n",
       "            "
      ],
      "text/plain": [
       "<IPython.core.display.Javascript object>"
      ]
     },
     "metadata": {},
     "output_type": "display_data"
    }
   ],
   "source": [
    "(\n",
    "    confirmed_train_X,\n",
    "    confirmed_train_Y,\n",
    "    confirmed_test_X,\n",
    "    confirmed_test_Y,\n",
    ") = normalize_split(confirmed_world_df[[\"Confirmed\"]])"
   ]
  },
  {
   "cell_type": "code",
   "execution_count": 15,
   "metadata": {
    "scrolled": true
   },
   "outputs": [
    {
     "data": {
      "text/plain": [
       "<tensorflow.python.keras.callbacks.History at 0x1413ef8e0>"
      ]
     },
     "execution_count": 15,
     "metadata": {},
     "output_type": "execute_result"
    },
    {
     "data": {
      "application/javascript": [
       "\n",
       "            setTimeout(function() {\n",
       "                var nbb_cell_id = 15;\n",
       "                var nbb_unformatted_code = \"# create and fit the LSTM network\\nmodel = Sequential()\\nmodel.add(LSTM(4, input_shape=(1, look_back)))\\nmodel.add(Dense(1))\\nmodel.compile(loss=\\\"mean_squared_error\\\", optimizer=\\\"adam\\\")\\nmodel.fit(confirmed_train_X, confirmed_train_Y, epochs=100, batch_size=1, verbose=0)\";\n",
       "                var nbb_formatted_code = \"# create and fit the LSTM network\\nmodel = Sequential()\\nmodel.add(LSTM(4, input_shape=(1, look_back)))\\nmodel.add(Dense(1))\\nmodel.compile(loss=\\\"mean_squared_error\\\", optimizer=\\\"adam\\\")\\nmodel.fit(confirmed_train_X, confirmed_train_Y, epochs=100, batch_size=1, verbose=0)\";\n",
       "                var nbb_cells = Jupyter.notebook.get_cells();\n",
       "                for (var i = 0; i < nbb_cells.length; ++i) {\n",
       "                    if (nbb_cells[i].input_prompt_number == nbb_cell_id) {\n",
       "                        if (nbb_cells[i].get_text() == nbb_unformatted_code) {\n",
       "                             nbb_cells[i].set_text(nbb_formatted_code);\n",
       "                        }\n",
       "                        break;\n",
       "                    }\n",
       "                }\n",
       "            }, 500);\n",
       "            "
      ],
      "text/plain": [
       "<IPython.core.display.Javascript object>"
      ]
     },
     "metadata": {},
     "output_type": "display_data"
    }
   ],
   "source": [
    "# create and fit the LSTM network\n",
    "model = Sequential()\n",
    "model.add(LSTM(4, input_shape=(1, look_back)))\n",
    "model.add(Dense(1))\n",
    "model.compile(loss=\"mean_squared_error\", optimizer=\"adam\")\n",
    "model.fit(confirmed_train_X, confirmed_train_Y, epochs=100, batch_size=1, verbose=0)"
   ]
  },
  {
   "cell_type": "code",
   "execution_count": 16,
   "metadata": {},
   "outputs": [
    {
     "name": "stdout",
     "output_type": "stream",
     "text": [
      "Train Score: 83282.03 RMSE\n",
      "Test Score: 2002083.16 RMSE\n"
     ]
    },
    {
     "data": {
      "application/javascript": [
       "\n",
       "            setTimeout(function() {\n",
       "                var nbb_cell_id = 16;\n",
       "                var nbb_unformatted_code = \"# make predictions\\nconfirmed_train_predict = model.predict(confirmed_train_X)\\nconfirmed_test_predict = model.predict(confirmed_test_X)\\n\\n# invert predictions\\nconfirmed_train_predict = scaler.inverse_transform(confirmed_train_predict)\\nconfirmed_train_Y = scaler.inverse_transform([confirmed_train_Y])\\nconfirmed_test_predict = scaler.inverse_transform(confirmed_test_predict)\\nconfirmed_test_Y = scaler.inverse_transform([confirmed_test_Y])\\n\\n# calculate root mean squared error\\ntrainScore = math.sqrt(\\n    mean_squared_error(confirmed_train_Y[0], confirmed_train_predict[:, 0])\\n)\\nprint(\\\"Train Score: %.2f RMSE\\\" % (trainScore))\\ntestScore = math.sqrt(\\n    mean_squared_error(confirmed_test_Y[0], confirmed_test_predict[:, 0])\\n)\\nprint(\\\"Test Score: %.2f RMSE\\\" % (testScore))\";\n",
       "                var nbb_formatted_code = \"# make predictions\\nconfirmed_train_predict = model.predict(confirmed_train_X)\\nconfirmed_test_predict = model.predict(confirmed_test_X)\\n\\n# invert predictions\\nconfirmed_train_predict = scaler.inverse_transform(confirmed_train_predict)\\nconfirmed_train_Y = scaler.inverse_transform([confirmed_train_Y])\\nconfirmed_test_predict = scaler.inverse_transform(confirmed_test_predict)\\nconfirmed_test_Y = scaler.inverse_transform([confirmed_test_Y])\\n\\n# calculate root mean squared error\\ntrainScore = math.sqrt(\\n    mean_squared_error(confirmed_train_Y[0], confirmed_train_predict[:, 0])\\n)\\nprint(\\\"Train Score: %.2f RMSE\\\" % (trainScore))\\ntestScore = math.sqrt(\\n    mean_squared_error(confirmed_test_Y[0], confirmed_test_predict[:, 0])\\n)\\nprint(\\\"Test Score: %.2f RMSE\\\" % (testScore))\";\n",
       "                var nbb_cells = Jupyter.notebook.get_cells();\n",
       "                for (var i = 0; i < nbb_cells.length; ++i) {\n",
       "                    if (nbb_cells[i].input_prompt_number == nbb_cell_id) {\n",
       "                        if (nbb_cells[i].get_text() == nbb_unformatted_code) {\n",
       "                             nbb_cells[i].set_text(nbb_formatted_code);\n",
       "                        }\n",
       "                        break;\n",
       "                    }\n",
       "                }\n",
       "            }, 500);\n",
       "            "
      ],
      "text/plain": [
       "<IPython.core.display.Javascript object>"
      ]
     },
     "metadata": {},
     "output_type": "display_data"
    }
   ],
   "source": [
    "# make predictions\n",
    "confirmed_train_predict = model.predict(confirmed_train_X)\n",
    "confirmed_test_predict = model.predict(confirmed_test_X)\n",
    "\n",
    "# invert predictions\n",
    "confirmed_train_predict = scaler.inverse_transform(confirmed_train_predict)\n",
    "confirmed_train_Y = scaler.inverse_transform([confirmed_train_Y])\n",
    "confirmed_test_predict = scaler.inverse_transform(confirmed_test_predict)\n",
    "confirmed_test_Y = scaler.inverse_transform([confirmed_test_Y])\n",
    "\n",
    "# calculate root mean squared error\n",
    "trainScore = math.sqrt(\n",
    "    mean_squared_error(confirmed_train_Y[0], confirmed_train_predict[:, 0])\n",
    ")\n",
    "print(\"Train Score: %.2f RMSE\" % (trainScore))\n",
    "testScore = math.sqrt(\n",
    "    mean_squared_error(confirmed_test_Y[0], confirmed_test_predict[:, 0])\n",
    ")\n",
    "print(\"Test Score: %.2f RMSE\" % (testScore))"
   ]
  },
  {
   "cell_type": "code",
   "execution_count": 17,
   "metadata": {},
   "outputs": [
    {
     "data": {
      "image/png": "[encoded data removed]",
      "text/plain": [
       "<Figure size 432x288 with 1 Axes>"
      ]
     },
     "metadata": {
      "needs_background": "light"
     },
     "output_type": "display_data"
    },
    {
     "data": {
      "application/javascript": [
       "\n",
       "            setTimeout(function() {\n",
       "                var nbb_cell_id = 17;\n",
       "                var nbb_unformatted_code = \"# shift train predictions for plotting\\ntrainPredictPlot = np.empty_like(confirmed_world_df[[\\\"Confirmed\\\"]])\\ntrainPredictPlot[:, :] = np.nan\\ntrainPredictPlot[\\n    look_back : len(confirmed_train_predict) + look_back, :\\n] = confirmed_train_predict\\n\\n# shift test predictions for plotting\\ntestPredictPlot = np.empty_like(confirmed_world_df[[\\\"Confirmed\\\"]])\\ntestPredictPlot[:, :] = np.nan\\ntestPredictPlot[\\n    len(confirmed_train_predict)\\n    + (look_back * 2)\\n    + 1 : len(confirmed_world_df[[\\\"Confirmed\\\"]])\\n    - 1,\\n    :,\\n] = confirmed_test_predict\\n\\n# plot baseline and predictions\\nplt.plot(scaler.inverse_transform(confirmed_world_df[[\\\"Confirmed\\\"]]))\\nplt.plot(trainPredictPlot)\\nplt.plot(testPredictPlot)\\nplt.show()\";\n",
       "                var nbb_formatted_code = \"# shift train predictions for plotting\\ntrainPredictPlot = np.empty_like(confirmed_world_df[[\\\"Confirmed\\\"]])\\ntrainPredictPlot[:, :] = np.nan\\ntrainPredictPlot[\\n    look_back : len(confirmed_train_predict) + look_back, :\\n] = confirmed_train_predict\\n\\n# shift test predictions for plotting\\ntestPredictPlot = np.empty_like(confirmed_world_df[[\\\"Confirmed\\\"]])\\ntestPredictPlot[:, :] = np.nan\\ntestPredictPlot[\\n    len(confirmed_train_predict)\\n    + (look_back * 2)\\n    + 1 : len(confirmed_world_df[[\\\"Confirmed\\\"]])\\n    - 1,\\n    :,\\n] = confirmed_test_predict\\n\\n# plot baseline and predictions\\nplt.plot(scaler.inverse_transform(confirmed_world_df[[\\\"Confirmed\\\"]]))\\nplt.plot(trainPredictPlot)\\nplt.plot(testPredictPlot)\\nplt.show()\";\n",
       "                var nbb_cells = Jupyter.notebook.get_cells();\n",
       "                for (var i = 0; i < nbb_cells.length; ++i) {\n",
       "                    if (nbb_cells[i].input_prompt_number == nbb_cell_id) {\n",
       "                        if (nbb_cells[i].get_text() == nbb_unformatted_code) {\n",
       "                             nbb_cells[i].set_text(nbb_formatted_code);\n",
       "                        }\n",
       "                        break;\n",
       "                    }\n",
       "                }\n",
       "            }, 500);\n",
       "            "
      ],
      "text/plain": [
       "<IPython.core.display.Javascript object>"
      ]
     },
     "metadata": {},
     "output_type": "display_data"
    }
   ],
   "source": [
    "# shift train predictions for plotting\n",
    "trainPredictPlot = np.empty_like(confirmed_world_df[[\"Confirmed\"]])\n",
    "trainPredictPlot[:, :] = np.nan\n",
    "trainPredictPlot[\n",
    "    look_back : len(confirmed_train_predict) + look_back, :\n",
    "] = confirmed_train_predict\n",
    "\n",
    "# shift test predictions for plotting\n",
    "testPredictPlot = np.empty_like(confirmed_world_df[[\"Confirmed\"]])\n",
    "testPredictPlot[:, :] = np.nan\n",
    "testPredictPlot[\n",
    "    len(confirmed_train_predict)\n",
    "    + (look_back * 2)\n",
    "    + 1 : len(confirmed_world_df[[\"Confirmed\"]])\n",
    "    - 1,\n",
    "    :,\n",
    "] = confirmed_test_predict\n",
    "\n",
    "# plot baseline and predictions\n",
    "plt.plot(scaler.inverse_transform(confirmed_world_df[[\"Confirmed\"]]))\n",
    "plt.plot(trainPredictPlot)\n",
    "plt.plot(testPredictPlot)\n",
    "plt.show()"
   ]
  },
  {
   "cell_type": "markdown",
   "metadata": {},
   "source": [
    "### Recovered (world)"
   ]
  },
  {
   "cell_type": "code",
   "execution_count": 18,
   "metadata": {},
   "outputs": [
    {
     "data": {
      "application/javascript": [
       "\n",
       "            setTimeout(function() {\n",
       "                var nbb_cell_id = 18;\n",
       "                var nbb_unformatted_code = \"(\\n    recovered_train_X,\\n    recovered_train_Y,\\n    recovered_test_X,\\n    recovered_test_Y,\\n) = normalize_split(recovered_world_df[[\\\"Recovered\\\"]])\";\n",
       "                var nbb_formatted_code = \"(\\n    recovered_train_X,\\n    recovered_train_Y,\\n    recovered_test_X,\\n    recovered_test_Y,\\n) = normalize_split(recovered_world_df[[\\\"Recovered\\\"]])\";\n",
       "                var nbb_cells = Jupyter.notebook.get_cells();\n",
       "                for (var i = 0; i < nbb_cells.length; ++i) {\n",
       "                    if (nbb_cells[i].input_prompt_number == nbb_cell_id) {\n",
       "                        if (nbb_cells[i].get_text() == nbb_unformatted_code) {\n",
       "                             nbb_cells[i].set_text(nbb_formatted_code);\n",
       "                        }\n",
       "                        break;\n",
       "                    }\n",
       "                }\n",
       "            }, 500);\n",
       "            "
      ],
      "text/plain": [
       "<IPython.core.display.Javascript object>"
      ]
     },
     "metadata": {},
     "output_type": "display_data"
    }
   ],
   "source": [
    "(\n",
    "    recovered_train_X,\n",
    "    recovered_train_Y,\n",
    "    recovered_test_X,\n",
    "    recovered_test_Y,\n",
    ") = normalize_split(recovered_world_df[[\"Recovered\"]])"
   ]
  },
  {
   "cell_type": "code",
   "execution_count": 19,
   "metadata": {},
   "outputs": [
    {
     "data": {
      "text/plain": [
       "<tensorflow.python.keras.callbacks.History at 0x143fa3280>"
      ]
     },
     "execution_count": 19,
     "metadata": {},
     "output_type": "execute_result"
    },
    {
     "data": {
      "application/javascript": [
       "\n",
       "            setTimeout(function() {\n",
       "                var nbb_cell_id = 19;\n",
       "                var nbb_unformatted_code = \"# create and fit the LSTM network\\nmodel = Sequential()\\nmodel.add(LSTM(4, input_shape=(1, look_back)))\\nmodel.add(Dense(1))\\nmodel.compile(loss=\\\"mean_squared_error\\\", optimizer=\\\"adam\\\")\\nmodel.fit(recovered_train_X, recovered_train_Y, epochs=100, batch_size=1, verbose=0)\";\n",
       "                var nbb_formatted_code = \"# create and fit the LSTM network\\nmodel = Sequential()\\nmodel.add(LSTM(4, input_shape=(1, look_back)))\\nmodel.add(Dense(1))\\nmodel.compile(loss=\\\"mean_squared_error\\\", optimizer=\\\"adam\\\")\\nmodel.fit(recovered_train_X, recovered_train_Y, epochs=100, batch_size=1, verbose=0)\";\n",
       "                var nbb_cells = Jupyter.notebook.get_cells();\n",
       "                for (var i = 0; i < nbb_cells.length; ++i) {\n",
       "                    if (nbb_cells[i].input_prompt_number == nbb_cell_id) {\n",
       "                        if (nbb_cells[i].get_text() == nbb_unformatted_code) {\n",
       "                             nbb_cells[i].set_text(nbb_formatted_code);\n",
       "                        }\n",
       "                        break;\n",
       "                    }\n",
       "                }\n",
       "            }, 500);\n",
       "            "
      ],
      "text/plain": [
       "<IPython.core.display.Javascript object>"
      ]
     },
     "metadata": {},
     "output_type": "display_data"
    }
   ],
   "source": [
    "# create and fit the LSTM network\n",
    "model = Sequential()\n",
    "model.add(LSTM(4, input_shape=(1, look_back)))\n",
    "model.add(Dense(1))\n",
    "model.compile(loss=\"mean_squared_error\", optimizer=\"adam\")\n",
    "model.fit(recovered_train_X, recovered_train_Y, epochs=100, batch_size=1, verbose=0)"
   ]
  },
  {
   "cell_type": "code",
   "execution_count": 20,
   "metadata": {},
   "outputs": [
    {
     "name": "stdout",
     "output_type": "stream",
     "text": [
      "Train Score: 43376.54 RMSE\n",
      "Test Score: 1333910.83 RMSE\n"
     ]
    },
    {
     "data": {
      "application/javascript": [
       "\n",
       "            setTimeout(function() {\n",
       "                var nbb_cell_id = 20;\n",
       "                var nbb_unformatted_code = \"# make predictions\\nrecovered_train_predict = model.predict(recovered_train_X)\\nrecovered_test_predict = model.predict(recovered_test_X)\\n\\n# invert predictions\\nrecovered_train_predict = scaler.inverse_transform(recovered_train_predict)\\nrecovered_train_Y = scaler.inverse_transform([recovered_train_Y])\\nrecovered_test_predict = scaler.inverse_transform(recovered_test_predict)\\nrecovered_test_Y = scaler.inverse_transform([recovered_test_Y])\\n\\n# calculate root mean squared error\\ntrainScore = math.sqrt(\\n    mean_squared_error(recovered_train_Y[0], recovered_train_predict[:, 0])\\n)\\nprint(\\\"Train Score: %.2f RMSE\\\" % (trainScore))\\ntestScore = math.sqrt(\\n    mean_squared_error(recovered_test_Y[0], recovered_test_predict[:, 0])\\n)\\nprint(\\\"Test Score: %.2f RMSE\\\" % (testScore))\";\n",
       "                var nbb_formatted_code = \"# make predictions\\nrecovered_train_predict = model.predict(recovered_train_X)\\nrecovered_test_predict = model.predict(recovered_test_X)\\n\\n# invert predictions\\nrecovered_train_predict = scaler.inverse_transform(recovered_train_predict)\\nrecovered_train_Y = scaler.inverse_transform([recovered_train_Y])\\nrecovered_test_predict = scaler.inverse_transform(recovered_test_predict)\\nrecovered_test_Y = scaler.inverse_transform([recovered_test_Y])\\n\\n# calculate root mean squared error\\ntrainScore = math.sqrt(\\n    mean_squared_error(recovered_train_Y[0], recovered_train_predict[:, 0])\\n)\\nprint(\\\"Train Score: %.2f RMSE\\\" % (trainScore))\\ntestScore = math.sqrt(\\n    mean_squared_error(recovered_test_Y[0], recovered_test_predict[:, 0])\\n)\\nprint(\\\"Test Score: %.2f RMSE\\\" % (testScore))\";\n",
       "                var nbb_cells = Jupyter.notebook.get_cells();\n",
       "                for (var i = 0; i < nbb_cells.length; ++i) {\n",
       "                    if (nbb_cells[i].input_prompt_number == nbb_cell_id) {\n",
       "                        if (nbb_cells[i].get_text() == nbb_unformatted_code) {\n",
       "                             nbb_cells[i].set_text(nbb_formatted_code);\n",
       "                        }\n",
       "                        break;\n",
       "                    }\n",
       "                }\n",
       "            }, 500);\n",
       "            "
      ],
      "text/plain": [
       "<IPython.core.display.Javascript object>"
      ]
     },
     "metadata": {},
     "output_type": "display_data"
    }
   ],
   "source": [
    "# make predictions\n",
    "recovered_train_predict = model.predict(recovered_train_X)\n",
    "recovered_test_predict = model.predict(recovered_test_X)\n",
    "\n",
    "# invert predictions\n",
    "recovered_train_predict = scaler.inverse_transform(recovered_train_predict)\n",
    "recovered_train_Y = scaler.inverse_transform([recovered_train_Y])\n",
    "recovered_test_predict = scaler.inverse_transform(recovered_test_predict)\n",
    "recovered_test_Y = scaler.inverse_transform([recovered_test_Y])\n",
    "\n",
    "# calculate root mean squared error\n",
    "trainScore = math.sqrt(\n",
    "    mean_squared_error(recovered_train_Y[0], recovered_train_predict[:, 0])\n",
    ")\n",
    "print(\"Train Score: %.2f RMSE\" % (trainScore))\n",
    "testScore = math.sqrt(\n",
    "    mean_squared_error(recovered_test_Y[0], recovered_test_predict[:, 0])\n",
    ")\n",
    "print(\"Test Score: %.2f RMSE\" % (testScore))"
   ]
  },
  {
   "cell_type": "code",
   "execution_count": 21,
   "metadata": {},
   "outputs": [
    {
     "data": {
      "image/png": "[encoded data removed]",
      "text/plain": [
       "<Figure size 432x288 with 1 Axes>"
      ]
     },
     "metadata": {
      "needs_background": "light"
     },
     "output_type": "display_data"
    },
    {
     "data": {
      "application/javascript": [
       "\n",
       "            setTimeout(function() {\n",
       "                var nbb_cell_id = 21;\n",
       "                var nbb_unformatted_code = \"# shift train predictions for plotting\\ntrainPredictPlot = np.empty_like(recovered_world_df[[\\\"Recovered\\\"]])\\ntrainPredictPlot[:, :] = np.nan\\ntrainPredictPlot[\\n    look_back : len(recovered_train_predict) + look_back, :\\n] = recovered_train_predict\\n\\n# shift test predictions for plotting\\ntestPredictPlot = np.empty_like(recovered_world_df[[\\\"Recovered\\\"]])\\ntestPredictPlot[:, :] = np.nan\\ntestPredictPlot[\\n    len(recovered_train_predict)\\n    + (look_back * 2)\\n    + 1 : len(recovered_world_df[[\\\"Recovered\\\"]])\\n    - 1,\\n    :,\\n] = recovered_test_predict\\n\\n# plot baseline and predictions\\nplt.plot(scaler.inverse_transform(recovered_world_df[[\\\"Recovered\\\"]]))\\nplt.plot(trainPredictPlot)\\nplt.plot(testPredictPlot)\\nplt.show()\";\n",
       "                var nbb_formatted_code = \"# shift train predictions for plotting\\ntrainPredictPlot = np.empty_like(recovered_world_df[[\\\"Recovered\\\"]])\\ntrainPredictPlot[:, :] = np.nan\\ntrainPredictPlot[\\n    look_back : len(recovered_train_predict) + look_back, :\\n] = recovered_train_predict\\n\\n# shift test predictions for plotting\\ntestPredictPlot = np.empty_like(recovered_world_df[[\\\"Recovered\\\"]])\\ntestPredictPlot[:, :] = np.nan\\ntestPredictPlot[\\n    len(recovered_train_predict)\\n    + (look_back * 2)\\n    + 1 : len(recovered_world_df[[\\\"Recovered\\\"]])\\n    - 1,\\n    :,\\n] = recovered_test_predict\\n\\n# plot baseline and predictions\\nplt.plot(scaler.inverse_transform(recovered_world_df[[\\\"Recovered\\\"]]))\\nplt.plot(trainPredictPlot)\\nplt.plot(testPredictPlot)\\nplt.show()\";\n",
       "                var nbb_cells = Jupyter.notebook.get_cells();\n",
       "                for (var i = 0; i < nbb_cells.length; ++i) {\n",
       "                    if (nbb_cells[i].input_prompt_number == nbb_cell_id) {\n",
       "                        if (nbb_cells[i].get_text() == nbb_unformatted_code) {\n",
       "                             nbb_cells[i].set_text(nbb_formatted_code);\n",
       "                        }\n",
       "                        break;\n",
       "                    }\n",
       "                }\n",
       "            }, 500);\n",
       "            "
      ],
      "text/plain": [
       "<IPython.core.display.Javascript object>"
      ]
     },
     "metadata": {},
     "output_type": "display_data"
    }
   ],
   "source": [
    "# shift train predictions for plotting\n",
    "trainPredictPlot = np.empty_like(recovered_world_df[[\"Recovered\"]])\n",
    "trainPredictPlot[:, :] = np.nan\n",
    "trainPredictPlot[\n",
    "    look_back : len(recovered_train_predict) + look_back, :\n",
    "] = recovered_train_predict\n",
    "\n",
    "# shift test predictions for plotting\n",
    "testPredictPlot = np.empty_like(recovered_world_df[[\"Recovered\"]])\n",
    "testPredictPlot[:, :] = np.nan\n",
    "testPredictPlot[\n",
    "    len(recovered_train_predict)\n",
    "    + (look_back * 2)\n",
    "    + 1 : len(recovered_world_df[[\"Recovered\"]])\n",
    "    - 1,\n",
    "    :,\n",
    "] = recovered_test_predict\n",
    "\n",
    "# plot baseline and predictions\n",
    "plt.plot(scaler.inverse_transform(recovered_world_df[[\"Recovered\"]]))\n",
    "plt.plot(trainPredictPlot)\n",
    "plt.plot(testPredictPlot)\n",
    "plt.show()"
   ]
  },
  {
   "cell_type": "markdown",
   "metadata": {},
   "source": [
    "### Deaths (world)"
   ]
  },
  {
   "cell_type": "code",
   "execution_count": 22,
   "metadata": {},
   "outputs": [
    {
     "data": {
      "application/javascript": [
       "\n",
       "            setTimeout(function() {\n",
       "                var nbb_cell_id = 22;\n",
       "                var nbb_unformatted_code = \"(\\n    deaths_train_X,\\n    deaths_train_Y,\\n    deaths_test_X,\\n    deaths_test_Y,\\n) = normalize_split(deaths_world_df[[\\\"Deaths\\\"]])\";\n",
       "                var nbb_formatted_code = \"(\\n    deaths_train_X,\\n    deaths_train_Y,\\n    deaths_test_X,\\n    deaths_test_Y,\\n) = normalize_split(deaths_world_df[[\\\"Deaths\\\"]])\";\n",
       "                var nbb_cells = Jupyter.notebook.get_cells();\n",
       "                for (var i = 0; i < nbb_cells.length; ++i) {\n",
       "                    if (nbb_cells[i].input_prompt_number == nbb_cell_id) {\n",
       "                        if (nbb_cells[i].get_text() == nbb_unformatted_code) {\n",
       "                             nbb_cells[i].set_text(nbb_formatted_code);\n",
       "                        }\n",
       "                        break;\n",
       "                    }\n",
       "                }\n",
       "            }, 500);\n",
       "            "
      ],
      "text/plain": [
       "<IPython.core.display.Javascript object>"
      ]
     },
     "metadata": {},
     "output_type": "display_data"
    }
   ],
   "source": [
    "(\n",
    "    deaths_train_X,\n",
    "    deaths_train_Y,\n",
    "    deaths_test_X,\n",
    "    deaths_test_Y,\n",
    ") = normalize_split(deaths_world_df[[\"Deaths\"]])"
   ]
  },
  {
   "cell_type": "code",
   "execution_count": 23,
   "metadata": {},
   "outputs": [
    {
     "data": {
      "text/plain": [
       "<tensorflow.python.keras.callbacks.History at 0x1444a3130>"
      ]
     },
     "execution_count": 23,
     "metadata": {},
     "output_type": "execute_result"
    },
    {
     "data": {
      "application/javascript": [
       "\n",
       "            setTimeout(function() {\n",
       "                var nbb_cell_id = 23;\n",
       "                var nbb_unformatted_code = \"# create and fit the LSTM network\\nmodel = Sequential()\\nmodel.add(LSTM(4, input_shape=(1, look_back)))\\nmodel.add(Dense(1))\\nmodel.compile(loss=\\\"mean_squared_error\\\", optimizer=\\\"adam\\\")\\nmodel.fit(deaths_train_X, deaths_train_Y, epochs=100, batch_size=1, verbose=0)\";\n",
       "                var nbb_formatted_code = \"# create and fit the LSTM network\\nmodel = Sequential()\\nmodel.add(LSTM(4, input_shape=(1, look_back)))\\nmodel.add(Dense(1))\\nmodel.compile(loss=\\\"mean_squared_error\\\", optimizer=\\\"adam\\\")\\nmodel.fit(deaths_train_X, deaths_train_Y, epochs=100, batch_size=1, verbose=0)\";\n",
       "                var nbb_cells = Jupyter.notebook.get_cells();\n",
       "                for (var i = 0; i < nbb_cells.length; ++i) {\n",
       "                    if (nbb_cells[i].input_prompt_number == nbb_cell_id) {\n",
       "                        if (nbb_cells[i].get_text() == nbb_unformatted_code) {\n",
       "                             nbb_cells[i].set_text(nbb_formatted_code);\n",
       "                        }\n",
       "                        break;\n",
       "                    }\n",
       "                }\n",
       "            }, 500);\n",
       "            "
      ],
      "text/plain": [
       "<IPython.core.display.Javascript object>"
      ]
     },
     "metadata": {},
     "output_type": "display_data"
    }
   ],
   "source": [
    "# create and fit the LSTM network\n",
    "model = Sequential()\n",
    "model.add(LSTM(4, input_shape=(1, look_back)))\n",
    "model.add(Dense(1))\n",
    "model.compile(loss=\"mean_squared_error\", optimizer=\"adam\")\n",
    "model.fit(deaths_train_X, deaths_train_Y, epochs=100, batch_size=1, verbose=0)"
   ]
  },
  {
   "cell_type": "code",
   "execution_count": 24,
   "metadata": {},
   "outputs": [
    {
     "name": "stdout",
     "output_type": "stream",
     "text": [
      "Train Score: 6726.62 RMSE\n",
      "Test Score: 49211.66 RMSE\n"
     ]
    },
    {
     "data": {
      "application/javascript": [
       "\n",
       "            setTimeout(function() {\n",
       "                var nbb_cell_id = 24;\n",
       "                var nbb_unformatted_code = \"# make predictions\\ndeaths_train_predict = model.predict(deaths_train_X)\\ndeaths_test_predict = model.predict(deaths_test_X)\\n\\n# invert predictions\\ndeaths_train_predict = scaler.inverse_transform(deaths_train_predict)\\ndeaths_train_Y = scaler.inverse_transform([deaths_train_Y])\\ndeaths_test_predict = scaler.inverse_transform(deaths_test_predict)\\ndeaths_test_Y = scaler.inverse_transform([deaths_test_Y])\\n\\n# calculate root mean squared error\\ntrainScore = math.sqrt(\\n    mean_squared_error(deaths_train_Y[0], deaths_train_predict[:, 0])\\n)\\nprint(\\\"Train Score: %.2f RMSE\\\" % (trainScore))\\ntestScore = math.sqrt(mean_squared_error(deaths_test_Y[0], deaths_test_predict[:, 0]))\\nprint(\\\"Test Score: %.2f RMSE\\\" % (testScore))\";\n",
       "                var nbb_formatted_code = \"# make predictions\\ndeaths_train_predict = model.predict(deaths_train_X)\\ndeaths_test_predict = model.predict(deaths_test_X)\\n\\n# invert predictions\\ndeaths_train_predict = scaler.inverse_transform(deaths_train_predict)\\ndeaths_train_Y = scaler.inverse_transform([deaths_train_Y])\\ndeaths_test_predict = scaler.inverse_transform(deaths_test_predict)\\ndeaths_test_Y = scaler.inverse_transform([deaths_test_Y])\\n\\n# calculate root mean squared error\\ntrainScore = math.sqrt(\\n    mean_squared_error(deaths_train_Y[0], deaths_train_predict[:, 0])\\n)\\nprint(\\\"Train Score: %.2f RMSE\\\" % (trainScore))\\ntestScore = math.sqrt(mean_squared_error(deaths_test_Y[0], deaths_test_predict[:, 0]))\\nprint(\\\"Test Score: %.2f RMSE\\\" % (testScore))\";\n",
       "                var nbb_cells = Jupyter.notebook.get_cells();\n",
       "                for (var i = 0; i < nbb_cells.length; ++i) {\n",
       "                    if (nbb_cells[i].input_prompt_number == nbb_cell_id) {\n",
       "                        if (nbb_cells[i].get_text() == nbb_unformatted_code) {\n",
       "                             nbb_cells[i].set_text(nbb_formatted_code);\n",
       "                        }\n",
       "                        break;\n",
       "                    }\n",
       "                }\n",
       "            }, 500);\n",
       "            "
      ],
      "text/plain": [
       "<IPython.core.display.Javascript object>"
      ]
     },
     "metadata": {},
     "output_type": "display_data"
    }
   ],
   "source": [
    "# make predictions\n",
    "deaths_train_predict = model.predict(deaths_train_X)\n",
    "deaths_test_predict = model.predict(deaths_test_X)\n",
    "\n",
    "# invert predictions\n",
    "deaths_train_predict = scaler.inverse_transform(deaths_train_predict)\n",
    "deaths_train_Y = scaler.inverse_transform([deaths_train_Y])\n",
    "deaths_test_predict = scaler.inverse_transform(deaths_test_predict)\n",
    "deaths_test_Y = scaler.inverse_transform([deaths_test_Y])\n",
    "\n",
    "# calculate root mean squared error\n",
    "trainScore = math.sqrt(\n",
    "    mean_squared_error(deaths_train_Y[0], deaths_train_predict[:, 0])\n",
    ")\n",
    "print(\"Train Score: %.2f RMSE\" % (trainScore))\n",
    "testScore = math.sqrt(mean_squared_error(deaths_test_Y[0], deaths_test_predict[:, 0]))\n",
    "print(\"Test Score: %.2f RMSE\" % (testScore))"
   ]
  },
  {
   "cell_type": "code",
   "execution_count": 25,
   "metadata": {},
   "outputs": [
    {
     "data": {
      "image/png": "[encoded data removed]",
      "text/plain": [
       "<Figure size 432x288 with 1 Axes>"
      ]
     },
     "metadata": {
      "needs_background": "light"
     },
     "output_type": "display_data"
    },
    {
     "data": {
      "application/javascript": [
       "\n",
       "            setTimeout(function() {\n",
       "                var nbb_cell_id = 25;\n",
       "                var nbb_unformatted_code = \"# shift train predictions for plotting\\ntrainPredictPlot = np.empty_like(deaths_world_df[[\\\"Deaths\\\"]])\\ntrainPredictPlot[:, :] = np.nan\\ntrainPredictPlot[\\n    look_back : len(deaths_train_predict) + look_back, :\\n] = deaths_train_predict\\n\\n# shift test predictions for plotting\\ntestPredictPlot = np.empty_like(deaths_world_df[[\\\"Deaths\\\"]])\\ntestPredictPlot[:, :] = np.nan\\ntestPredictPlot[\\n    len(deaths_train_predict)\\n    + (look_back * 2)\\n    + 1 : len(deaths_world_df[[\\\"Deaths\\\"]])\\n    - 1,\\n    :,\\n] = deaths_test_predict\\n\\n# plot baseline and predictions\\nplt.plot(scaler.inverse_transform(deaths_world_df[[\\\"Deaths\\\"]]))\\nplt.plot(trainPredictPlot)\\nplt.plot(testPredictPlot)\\nplt.show()\";\n",
       "                var nbb_formatted_code = \"# shift train predictions for plotting\\ntrainPredictPlot = np.empty_like(deaths_world_df[[\\\"Deaths\\\"]])\\ntrainPredictPlot[:, :] = np.nan\\ntrainPredictPlot[\\n    look_back : len(deaths_train_predict) + look_back, :\\n] = deaths_train_predict\\n\\n# shift test predictions for plotting\\ntestPredictPlot = np.empty_like(deaths_world_df[[\\\"Deaths\\\"]])\\ntestPredictPlot[:, :] = np.nan\\ntestPredictPlot[\\n    len(deaths_train_predict)\\n    + (look_back * 2)\\n    + 1 : len(deaths_world_df[[\\\"Deaths\\\"]])\\n    - 1,\\n    :,\\n] = deaths_test_predict\\n\\n# plot baseline and predictions\\nplt.plot(scaler.inverse_transform(deaths_world_df[[\\\"Deaths\\\"]]))\\nplt.plot(trainPredictPlot)\\nplt.plot(testPredictPlot)\\nplt.show()\";\n",
       "                var nbb_cells = Jupyter.notebook.get_cells();\n",
       "                for (var i = 0; i < nbb_cells.length; ++i) {\n",
       "                    if (nbb_cells[i].input_prompt_number == nbb_cell_id) {\n",
       "                        if (nbb_cells[i].get_text() == nbb_unformatted_code) {\n",
       "                             nbb_cells[i].set_text(nbb_formatted_code);\n",
       "                        }\n",
       "                        break;\n",
       "                    }\n",
       "                }\n",
       "            }, 500);\n",
       "            "
      ],
      "text/plain": [
       "<IPython.core.display.Javascript object>"
      ]
     },
     "metadata": {},
     "output_type": "display_data"
    }
   ],
   "source": [
    "# shift train predictions for plotting\n",
    "trainPredictPlot = np.empty_like(deaths_world_df[[\"Deaths\"]])\n",
    "trainPredictPlot[:, :] = np.nan\n",
    "trainPredictPlot[\n",
    "    look_back : len(deaths_train_predict) + look_back, :\n",
    "] = deaths_train_predict\n",
    "\n",
    "# shift test predictions for plotting\n",
    "testPredictPlot = np.empty_like(deaths_world_df[[\"Deaths\"]])\n",
    "testPredictPlot[:, :] = np.nan\n",
    "testPredictPlot[\n",
    "    len(deaths_train_predict)\n",
    "    + (look_back * 2)\n",
    "    + 1 : len(deaths_world_df[[\"Deaths\"]])\n",
    "    - 1,\n",
    "    :,\n",
    "] = deaths_test_predict\n",
    "\n",
    "# plot baseline and predictions\n",
    "plt.plot(scaler.inverse_transform(deaths_world_df[[\"Deaths\"]]))\n",
    "plt.plot(trainPredictPlot)\n",
    "plt.plot(testPredictPlot)\n",
    "plt.show()"
   ]
  },
  {
   "cell_type": "markdown",
   "metadata": {},
   "source": [
    "## ARIMA\n",
    "\n",
    "### Confirmed"
   ]
  },
  {
   "cell_type": "code",
   "execution_count": 26,
   "metadata": {},
   "outputs": [
    {
     "data": {
      "image/png": "[encoded data removed]",
      "text/plain": [
       "<Figure size 432x288 with 1 Axes>"
      ]
     },
     "metadata": {
      "needs_background": "light"
     },
     "output_type": "display_data"
    },
    {
     "data": {
      "application/javascript": [
       "\n",
       "            setTimeout(function() {\n",
       "                var nbb_cell_id = 26;\n",
       "                var nbb_unformatted_code = \"X = confirmed_world_df[[\\\"Confirmed\\\"]].values\\n\\nautocorrelation_plot(X)\\nplt.show()\";\n",
       "                var nbb_formatted_code = \"X = confirmed_world_df[[\\\"Confirmed\\\"]].values\\n\\nautocorrelation_plot(X)\\nplt.show()\";\n",
       "                var nbb_cells = Jupyter.notebook.get_cells();\n",
       "                for (var i = 0; i < nbb_cells.length; ++i) {\n",
       "                    if (nbb_cells[i].input_prompt_number == nbb_cell_id) {\n",
       "                        if (nbb_cells[i].get_text() == nbb_unformatted_code) {\n",
       "                             nbb_cells[i].set_text(nbb_formatted_code);\n",
       "                        }\n",
       "                        break;\n",
       "                    }\n",
       "                }\n",
       "            }, 500);\n",
       "            "
      ],
      "text/plain": [
       "<IPython.core.display.Javascript object>"
      ]
     },
     "metadata": {},
     "output_type": "display_data"
    }
   ],
   "source": [
    "X = confirmed_world_df[[\"Confirmed\"]].values\n",
    "\n",
    "autocorrelation_plot(X)\n",
    "plt.show()"
   ]
  },
  {
   "cell_type": "code",
   "execution_count": 27,
   "metadata": {},
   "outputs": [
    {
     "name": "stdout",
     "output_type": "stream",
     "text": [
      "                             ARIMA Model Results                              \n",
      "==============================================================================\n",
      "Dep. Variable:                    D.y   No. Observations:                  245\n",
      "Model:                 ARIMA(5, 1, 0)   Log Likelihood               -3087.664\n",
      "Method:                       css-mle   S.D. of innovations          71780.117\n",
      "Date:                Thu, 29 Oct 2020   AIC                           6189.328\n",
      "Time:                        00:27:01   BIC                           6213.837\n",
      "Sample:                             1   HQIC                          6199.198\n",
      "                                                                              \n",
      "==============================================================================\n",
      "                 coef    std err          z      P>|z|      [0.025      0.975]\n",
      "------------------------------------------------------------------------------\n",
      "const       9.698e+04   3.16e+04      3.065      0.002     3.5e+04    1.59e+05\n",
      "ar.L1.D.y      0.2762      0.063      4.376      0.000       0.152       0.400\n",
      "ar.L2.D.y      0.1250      0.064      1.958      0.050   -9.95e-05       0.250\n",
      "ar.L3.D.y      0.1103      0.064      1.722      0.085      -0.015       0.236\n",
      "ar.L4.D.y      0.2184      0.064      3.422      0.001       0.093       0.343\n",
      "ar.L5.D.y      0.1347      0.063      2.137      0.033       0.011       0.258\n",
      "                                    Roots                                    \n",
      "=============================================================================\n",
      "                  Real          Imaginary           Modulus         Frequency\n",
      "-----------------------------------------------------------------------------\n",
      "AR.1            1.0526           -0.0000j            1.0526           -0.0000\n",
      "AR.2            0.2848           -1.4085j            1.4370           -0.2182\n",
      "AR.3            0.2848           +1.4085j            1.4370            0.2182\n",
      "AR.4           -1.6217           -0.8863j            1.8481           -0.4204\n",
      "AR.5           -1.6217           +0.8863j            1.8481            0.4204\n",
      "-----------------------------------------------------------------------------\n"
     ]
    },
    {
     "data": {
      "image/png": "[encoded data removed]",
      "text/plain": [
       "<Figure size 432x288 with 1 Axes>"
      ]
     },
     "metadata": {
      "needs_background": "light"
     },
     "output_type": "display_data"
    },
    {
     "data": {
      "image/png": "[encoded data removed]",
      "text/plain": [
       "<Figure size 432x288 with 1 Axes>"
      ]
     },
     "metadata": {
      "needs_background": "light"
     },
     "output_type": "display_data"
    },
    {
     "name": "stdout",
     "output_type": "stream",
     "text": [
      "                   0\n",
      "count     245.000000\n",
      "mean     1360.554507\n",
      "std     72060.819809\n",
      "min   -178248.605445\n",
      "25%    -13881.117121\n",
      "50%    -10440.425471\n",
      "75%     12047.784606\n",
      "max    623317.634098\n"
     ]
    },
    {
     "data": {
      "application/javascript": [
       "\n",
       "            setTimeout(function() {\n",
       "                var nbb_cell_id = 27;\n",
       "                var nbb_unformatted_code = \"# fit model\\nmodel = ARIMA(X, order=(5, 1, 0))\\nmodel_fit = model.fit(disp=0)\\nprint(model_fit.summary())\\n# plot residual errors\\nresiduals = pd.DataFrame(model_fit.resid)\\nresiduals.plot()\\nplt.show()\\nresiduals.plot(kind=\\\"kde\\\")\\nplt.show()\\nprint(residuals.describe())\";\n",
       "                var nbb_formatted_code = \"# fit model\\nmodel = ARIMA(X, order=(5, 1, 0))\\nmodel_fit = model.fit(disp=0)\\nprint(model_fit.summary())\\n# plot residual errors\\nresiduals = pd.DataFrame(model_fit.resid)\\nresiduals.plot()\\nplt.show()\\nresiduals.plot(kind=\\\"kde\\\")\\nplt.show()\\nprint(residuals.describe())\";\n",
       "                var nbb_cells = Jupyter.notebook.get_cells();\n",
       "                for (var i = 0; i < nbb_cells.length; ++i) {\n",
       "                    if (nbb_cells[i].input_prompt_number == nbb_cell_id) {\n",
       "                        if (nbb_cells[i].get_text() == nbb_unformatted_code) {\n",
       "                             nbb_cells[i].set_text(nbb_formatted_code);\n",
       "                        }\n",
       "                        break;\n",
       "                    }\n",
       "                }\n",
       "            }, 500);\n",
       "            "
      ],
      "text/plain": [
       "<IPython.core.display.Javascript object>"
      ]
     },
     "metadata": {},
     "output_type": "display_data"
    }
   ],
   "source": [
    "# fit model\n",
    "model = ARIMA(X, order=(5, 1, 0))\n",
    "model_fit = model.fit(disp=0)\n",
    "print(model_fit.summary())\n",
    "# plot residual errors\n",
    "residuals = pd.DataFrame(model_fit.resid)\n",
    "residuals.plot()\n",
    "plt.show()\n",
    "residuals.plot(kind=\"kde\")\n",
    "plt.show()\n",
    "print(residuals.describe())"
   ]
  },
  {
   "cell_type": "code",
   "execution_count": 28,
   "metadata": {
    "scrolled": true
   },
   "outputs": [
    {
     "name": "stdout",
     "output_type": "stream",
     "text": [
      "Test RMSE: 44780.586\n"
     ]
    },
    {
     "data": {
      "application/javascript": [
       "\n",
       "            setTimeout(function() {\n",
       "                var nbb_cell_id = 28;\n",
       "                var nbb_unformatted_code = \"size = int(len(X) * 0.66)\\ntrain, test = X[0:size], X[size : len(X)]\\nhistory = [x for x in train]\\npredictions = list()\\nfor t in range(len(test)):\\n    model = ARIMA(history, order=(5, 1, 0))\\n    model_fit = model.fit(disp=0)\\n    output = model_fit.forecast()\\n    yhat = output[0]\\n    predictions.append(yhat)\\n    obs = test[t]\\n    history.append(obs)\\nerror = mean_squared_error(test, predictions, squared=False)\\nprint(\\\"Test RMSE: %.3f\\\" % error)\";\n",
       "                var nbb_formatted_code = \"size = int(len(X) * 0.66)\\ntrain, test = X[0:size], X[size : len(X)]\\nhistory = [x for x in train]\\npredictions = list()\\nfor t in range(len(test)):\\n    model = ARIMA(history, order=(5, 1, 0))\\n    model_fit = model.fit(disp=0)\\n    output = model_fit.forecast()\\n    yhat = output[0]\\n    predictions.append(yhat)\\n    obs = test[t]\\n    history.append(obs)\\nerror = mean_squared_error(test, predictions, squared=False)\\nprint(\\\"Test RMSE: %.3f\\\" % error)\";\n",
       "                var nbb_cells = Jupyter.notebook.get_cells();\n",
       "                for (var i = 0; i < nbb_cells.length; ++i) {\n",
       "                    if (nbb_cells[i].input_prompt_number == nbb_cell_id) {\n",
       "                        if (nbb_cells[i].get_text() == nbb_unformatted_code) {\n",
       "                             nbb_cells[i].set_text(nbb_formatted_code);\n",
       "                        }\n",
       "                        break;\n",
       "                    }\n",
       "                }\n",
       "            }, 500);\n",
       "            "
      ],
      "text/plain": [
       "<IPython.core.display.Javascript object>"
      ]
     },
     "metadata": {},
     "output_type": "display_data"
    }
   ],
   "source": [
    "size = int(len(X) * 0.66)\n",
    "train, test = X[0:size], X[size : len(X)]\n",
    "history = [x for x in train]\n",
    "predictions = list()\n",
    "for t in range(len(test)):\n",
    "    model = ARIMA(history, order=(5, 1, 0))\n",
    "    model_fit = model.fit(disp=0)\n",
    "    output = model_fit.forecast()\n",
    "    yhat = output[0]\n",
    "    predictions.append(yhat)\n",
    "    obs = test[t]\n",
    "    history.append(obs)\n",
    "error = mean_squared_error(test, predictions, squared=False)\n",
    "print(\"Test RMSE: %.3f\" % error)"
   ]
  },
  {
   "cell_type": "code",
   "execution_count": 29,
   "metadata": {},
   "outputs": [
    {
     "data": {
      "image/png": "[encoded data removed]",
      "text/plain": [
       "<Figure size 432x288 with 1 Axes>"
      ]
     },
     "metadata": {
      "needs_background": "light"
     },
     "output_type": "display_data"
    },
    {
     "data": {
      "application/javascript": [
       "\n",
       "            setTimeout(function() {\n",
       "                var nbb_cell_id = 29;\n",
       "                var nbb_unformatted_code = \"# plot\\nplt.plot(test)\\nplt.plot(predictions, color=\\\"red\\\")\\nplt.show()\";\n",
       "                var nbb_formatted_code = \"# plot\\nplt.plot(test)\\nplt.plot(predictions, color=\\\"red\\\")\\nplt.show()\";\n",
       "                var nbb_cells = Jupyter.notebook.get_cells();\n",
       "                for (var i = 0; i < nbb_cells.length; ++i) {\n",
       "                    if (nbb_cells[i].input_prompt_number == nbb_cell_id) {\n",
       "                        if (nbb_cells[i].get_text() == nbb_unformatted_code) {\n",
       "                             nbb_cells[i].set_text(nbb_formatted_code);\n",
       "                        }\n",
       "                        break;\n",
       "                    }\n",
       "                }\n",
       "            }, 500);\n",
       "            "
      ],
      "text/plain": [
       "<IPython.core.display.Javascript object>"
      ]
     },
     "metadata": {},
     "output_type": "display_data"
    }
   ],
   "source": [
    "# plot\n",
    "plt.plot(test)\n",
    "plt.plot(predictions, color=\"red\")\n",
    "plt.show()"
   ]
  },
  {
   "cell_type": "markdown",
   "metadata": {},
   "source": [
    "### Recovered"
   ]
  },
  {
   "cell_type": "code",
   "execution_count": 30,
   "metadata": {},
   "outputs": [
    {
     "data": {
      "image/png": "[encoded data removed]",
      "text/plain": [
       "<Figure size 432x288 with 1 Axes>"
      ]
     },
     "metadata": {
      "needs_background": "light"
     },
     "output_type": "display_data"
    },
    {
     "data": {
      "application/javascript": [
       "\n",
       "            setTimeout(function() {\n",
       "                var nbb_cell_id = 30;\n",
       "                var nbb_unformatted_code = \"X = recovered_world_df[[\\\"Recovered\\\"]].values\\n\\nautocorrelation_plot(X)\\nplt.show()\";\n",
       "                var nbb_formatted_code = \"X = recovered_world_df[[\\\"Recovered\\\"]].values\\n\\nautocorrelation_plot(X)\\nplt.show()\";\n",
       "                var nbb_cells = Jupyter.notebook.get_cells();\n",
       "                for (var i = 0; i < nbb_cells.length; ++i) {\n",
       "                    if (nbb_cells[i].input_prompt_number == nbb_cell_id) {\n",
       "                        if (nbb_cells[i].get_text() == nbb_unformatted_code) {\n",
       "                             nbb_cells[i].set_text(nbb_formatted_code);\n",
       "                        }\n",
       "                        break;\n",
       "                    }\n",
       "                }\n",
       "            }, 500);\n",
       "            "
      ],
      "text/plain": [
       "<IPython.core.display.Javascript object>"
      ]
     },
     "metadata": {},
     "output_type": "display_data"
    }
   ],
   "source": [
    "X = recovered_world_df[[\"Recovered\"]].values\n",
    "\n",
    "autocorrelation_plot(X)\n",
    "plt.show()"
   ]
  },
  {
   "cell_type": "code",
   "execution_count": 31,
   "metadata": {},
   "outputs": [
    {
     "name": "stdout",
     "output_type": "stream",
     "text": [
      "                             ARIMA Model Results                              \n",
      "==============================================================================\n",
      "Dep. Variable:                    D.y   No. Observations:                  245\n",
      "Model:                 ARIMA(5, 1, 0)   Log Likelihood               -2955.226\n",
      "Method:                       css-mle   S.D. of innovations          41731.814\n",
      "Date:                Thu, 29 Oct 2020   AIC                           5924.452\n",
      "Time:                        00:27:15   BIC                           5948.960\n",
      "Sample:                             1   HQIC                          5934.321\n",
      "                                                                              \n",
      "==============================================================================\n",
      "                 coef    std err          z      P>|z|      [0.025      0.975]\n",
      "------------------------------------------------------------------------------\n",
      "const       6.483e+04   3.99e+04      1.626      0.104   -1.33e+04    1.43e+05\n",
      "ar.L1.D.y      0.1355      0.063      2.159      0.031       0.013       0.258\n",
      "ar.L2.D.y      0.1924      0.062      3.123      0.002       0.072       0.313\n",
      "ar.L3.D.y      0.2145      0.061      3.495      0.000       0.094       0.335\n",
      "ar.L4.D.y      0.2159      0.062      3.500      0.000       0.095       0.337\n",
      "ar.L5.D.y      0.1852      0.063      2.956      0.003       0.062       0.308\n",
      "                                    Roots                                    \n",
      "=============================================================================\n",
      "                  Real          Imaginary           Modulus         Frequency\n",
      "-----------------------------------------------------------------------------\n",
      "AR.1            1.0186           -0.0000j            1.0186           -0.0000\n",
      "AR.2            0.2330           -1.4407j            1.4594           -0.2245\n",
      "AR.3            0.2330           +1.4407j            1.4594            0.2245\n",
      "AR.4           -1.3251           -0.8558j            1.5774           -0.4087\n",
      "AR.5           -1.3251           +0.8558j            1.5774            0.4087\n",
      "-----------------------------------------------------------------------------\n"
     ]
    },
    {
     "data": {
      "image/png": "[encoded data removed]",
      "text/plain": [
       "<Figure size 432x288 with 1 Axes>"
      ]
     },
     "metadata": {
      "needs_background": "light"
     },
     "output_type": "display_data"
    },
    {
     "data": {
      "image/png": "[encoded data removed]",
      "text/plain": [
       "<Figure size 432x288 with 1 Axes>"
      ]
     },
     "metadata": {
      "needs_background": "light"
     },
     "output_type": "display_data"
    },
    {
     "name": "stdout",
     "output_type": "stream",
     "text": [
      "                   0\n",
      "count     245.000000\n",
      "mean     1891.235404\n",
      "std     41927.589561\n",
      "min   -128529.329325\n",
      "25%     -6272.309103\n",
      "50%     -3553.278648\n",
      "75%      7306.785931\n",
      "max    400021.081381\n"
     ]
    },
    {
     "data": {
      "application/javascript": [
       "\n",
       "            setTimeout(function() {\n",
       "                var nbb_cell_id = 31;\n",
       "                var nbb_unformatted_code = \"# fit model\\nmodel = ARIMA(X, order=(5, 1, 0))\\nmodel_fit = model.fit(disp=0)\\nprint(model_fit.summary())\\n# plot residual errors\\nresiduals = pd.DataFrame(model_fit.resid)\\nresiduals.plot()\\nplt.show()\\nresiduals.plot(kind=\\\"kde\\\")\\nplt.show()\\nprint(residuals.describe())\";\n",
       "                var nbb_formatted_code = \"# fit model\\nmodel = ARIMA(X, order=(5, 1, 0))\\nmodel_fit = model.fit(disp=0)\\nprint(model_fit.summary())\\n# plot residual errors\\nresiduals = pd.DataFrame(model_fit.resid)\\nresiduals.plot()\\nplt.show()\\nresiduals.plot(kind=\\\"kde\\\")\\nplt.show()\\nprint(residuals.describe())\";\n",
       "                var nbb_cells = Jupyter.notebook.get_cells();\n",
       "                for (var i = 0; i < nbb_cells.length; ++i) {\n",
       "                    if (nbb_cells[i].input_prompt_number == nbb_cell_id) {\n",
       "                        if (nbb_cells[i].get_text() == nbb_unformatted_code) {\n",
       "                             nbb_cells[i].set_text(nbb_formatted_code);\n",
       "                        }\n",
       "                        break;\n",
       "                    }\n",
       "                }\n",
       "            }, 500);\n",
       "            "
      ],
      "text/plain": [
       "<IPython.core.display.Javascript object>"
      ]
     },
     "metadata": {},
     "output_type": "display_data"
    }
   ],
   "source": [
    "# fit model\n",
    "model = ARIMA(X, order=(5, 1, 0))\n",
    "model_fit = model.fit(disp=0)\n",
    "print(model_fit.summary())\n",
    "# plot residual errors\n",
    "residuals = pd.DataFrame(model_fit.resid)\n",
    "residuals.plot()\n",
    "plt.show()\n",
    "residuals.plot(kind=\"kde\")\n",
    "plt.show()\n",
    "print(residuals.describe())"
   ]
  },
  {
   "cell_type": "code",
   "execution_count": 32,
   "metadata": {
    "scrolled": true
   },
   "outputs": [
    {
     "name": "stdout",
     "output_type": "stream",
     "text": [
      "Test Root MSE: 37252.975\n"
     ]
    },
    {
     "data": {
      "application/javascript": [
       "\n",
       "            setTimeout(function() {\n",
       "                var nbb_cell_id = 32;\n",
       "                var nbb_unformatted_code = \"size = int(len(X) * 0.66)\\ntrain, test = X[0:size], X[size : len(X)]\\nhistory = [x for x in train]\\npredictions = list()\\nfor t in range(len(test)):\\n    model = ARIMA(history, order=(5, 1, 0))\\n    model_fit = model.fit(disp=0)\\n    output = model_fit.forecast()\\n    yhat = output[0]\\n    predictions.append(yhat)\\n    obs = test[t]\\n    history.append(obs)\\nerror = mean_squared_error(test, predictions, squared=False)\\nprint(\\\"Test Root MSE: %.3f\\\" % error)\";\n",
       "                var nbb_formatted_code = \"size = int(len(X) * 0.66)\\ntrain, test = X[0:size], X[size : len(X)]\\nhistory = [x for x in train]\\npredictions = list()\\nfor t in range(len(test)):\\n    model = ARIMA(history, order=(5, 1, 0))\\n    model_fit = model.fit(disp=0)\\n    output = model_fit.forecast()\\n    yhat = output[0]\\n    predictions.append(yhat)\\n    obs = test[t]\\n    history.append(obs)\\nerror = mean_squared_error(test, predictions, squared=False)\\nprint(\\\"Test Root MSE: %.3f\\\" % error)\";\n",
       "                var nbb_cells = Jupyter.notebook.get_cells();\n",
       "                for (var i = 0; i < nbb_cells.length; ++i) {\n",
       "                    if (nbb_cells[i].input_prompt_number == nbb_cell_id) {\n",
       "                        if (nbb_cells[i].get_text() == nbb_unformatted_code) {\n",
       "                             nbb_cells[i].set_text(nbb_formatted_code);\n",
       "                        }\n",
       "                        break;\n",
       "                    }\n",
       "                }\n",
       "            }, 500);\n",
       "            "
      ],
      "text/plain": [
       "<IPython.core.display.Javascript object>"
      ]
     },
     "metadata": {},
     "output_type": "display_data"
    }
   ],
   "source": [
    "size = int(len(X) * 0.66)\n",
    "train, test = X[0:size], X[size : len(X)]\n",
    "history = [x for x in train]\n",
    "predictions = list()\n",
    "for t in range(len(test)):\n",
    "    model = ARIMA(history, order=(5, 1, 0))\n",
    "    model_fit = model.fit(disp=0)\n",
    "    output = model_fit.forecast()\n",
    "    yhat = output[0]\n",
    "    predictions.append(yhat)\n",
    "    obs = test[t]\n",
    "    history.append(obs)\n",
    "error = mean_squared_error(test, predictions, squared=False)\n",
    "print(\"Test Root MSE: %.3f\" % error)"
   ]
  },
  {
   "cell_type": "code",
   "execution_count": 33,
   "metadata": {},
   "outputs": [
    {
     "data": {
      "image/png": "[encoded data removed]",
      "text/plain": [
       "<Figure size 432x288 with 1 Axes>"
      ]
     },
     "metadata": {
      "needs_background": "light"
     },
     "output_type": "display_data"
    },
    {
     "data": {
      "application/javascript": [
       "\n",
       "            setTimeout(function() {\n",
       "                var nbb_cell_id = 33;\n",
       "                var nbb_unformatted_code = \"# plot\\nplt.plot(test)\\nplt.plot(predictions, color=\\\"red\\\")\\nplt.show()\";\n",
       "                var nbb_formatted_code = \"# plot\\nplt.plot(test)\\nplt.plot(predictions, color=\\\"red\\\")\\nplt.show()\";\n",
       "                var nbb_cells = Jupyter.notebook.get_cells();\n",
       "                for (var i = 0; i < nbb_cells.length; ++i) {\n",
       "                    if (nbb_cells[i].input_prompt_number == nbb_cell_id) {\n",
       "                        if (nbb_cells[i].get_text() == nbb_unformatted_code) {\n",
       "                             nbb_cells[i].set_text(nbb_formatted_code);\n",
       "                        }\n",
       "                        break;\n",
       "                    }\n",
       "                }\n",
       "            }, 500);\n",
       "            "
      ],
      "text/plain": [
       "<IPython.core.display.Javascript object>"
      ]
     },
     "metadata": {},
     "output_type": "display_data"
    }
   ],
   "source": [
    "# plot\n",
    "plt.plot(test)\n",
    "plt.plot(predictions, color=\"red\")\n",
    "plt.show()"
   ]
  },
  {
   "cell_type": "markdown",
   "metadata": {},
   "source": [
    "### Deaths"
   ]
  },
  {
   "cell_type": "code",
   "execution_count": 34,
   "metadata": {},
   "outputs": [
    {
     "data": {
      "image/png": "[encoded data removed]",
      "text/plain": [
       "<Figure size 432x288 with 1 Axes>"
      ]
     },
     "metadata": {
      "needs_background": "light"
     },
     "output_type": "display_data"
    },
    {
     "data": {
      "application/javascript": [
       "\n",
       "            setTimeout(function() {\n",
       "                var nbb_cell_id = 34;\n",
       "                var nbb_unformatted_code = \"X = deaths_world_df[[\\\"Deaths\\\"]].values\\n\\nautocorrelation_plot(X)\\nplt.show()\";\n",
       "                var nbb_formatted_code = \"X = deaths_world_df[[\\\"Deaths\\\"]].values\\n\\nautocorrelation_plot(X)\\nplt.show()\";\n",
       "                var nbb_cells = Jupyter.notebook.get_cells();\n",
       "                for (var i = 0; i < nbb_cells.length; ++i) {\n",
       "                    if (nbb_cells[i].input_prompt_number == nbb_cell_id) {\n",
       "                        if (nbb_cells[i].get_text() == nbb_unformatted_code) {\n",
       "                             nbb_cells[i].set_text(nbb_formatted_code);\n",
       "                        }\n",
       "                        break;\n",
       "                    }\n",
       "                }\n",
       "            }, 500);\n",
       "            "
      ],
      "text/plain": [
       "<IPython.core.display.Javascript object>"
      ]
     },
     "metadata": {},
     "output_type": "display_data"
    }
   ],
   "source": [
    "X = deaths_world_df[[\"Deaths\"]].values\n",
    "\n",
    "autocorrelation_plot(X)\n",
    "plt.show()"
   ]
  },
  {
   "cell_type": "code",
   "execution_count": 35,
   "metadata": {},
   "outputs": [
    {
     "name": "stdout",
     "output_type": "stream",
     "text": [
      "                             ARIMA Model Results                              \n",
      "==============================================================================\n",
      "Dep. Variable:                    D.y   No. Observations:                  245\n",
      "Model:                 ARIMA(5, 1, 0)   Log Likelihood               -2462.193\n",
      "Method:                       css-mle   S.D. of innovations           5601.136\n",
      "Date:                Thu, 29 Oct 2020   AIC                           4938.386\n",
      "Time:                        00:27:36   BIC                           4962.895\n",
      "Sample:                             1   HQIC                          4948.256\n",
      "                                                                              \n",
      "==============================================================================\n",
      "                 coef    std err          z      P>|z|      [0.025      0.975]\n",
      "------------------------------------------------------------------------------\n",
      "const       3053.6096    492.988      6.194      0.000    2087.371    4019.849\n",
      "ar.L1.D.y      0.1316      0.064      2.068      0.039       0.007       0.256\n",
      "ar.L2.D.y      0.0460      0.064      0.718      0.473      -0.080       0.172\n",
      "ar.L3.D.y      0.0148      0.064      0.231      0.818      -0.111       0.140\n",
      "ar.L4.D.y      0.0201      0.064      0.315      0.753      -0.105       0.145\n",
      "ar.L5.D.y      0.0643      0.063      1.017      0.309      -0.060       0.188\n",
      "                                    Roots                                    \n",
      "=============================================================================\n",
      "                  Real          Imaginary           Modulus         Frequency\n",
      "-----------------------------------------------------------------------------\n",
      "AR.1            1.5253           -0.0000j            1.5253           -0.0000\n",
      "AR.2            0.5655           -1.6571j            1.7509           -0.1977\n",
      "AR.3            0.5655           +1.6571j            1.7509            0.1977\n",
      "AR.4           -1.4844           -1.0589j            1.8233           -0.4014\n",
      "AR.5           -1.4844           +1.0589j            1.8233            0.4014\n",
      "-----------------------------------------------------------------------------\n"
     ]
    },
    {
     "data": {
      "image/png": "[encoded data removed]",
      "text/plain": [
       "<Figure size 432x288 with 1 Axes>"
      ]
     },
     "metadata": {
      "needs_background": "light"
     },
     "output_type": "display_data"
    },
    {
     "data": {
      "image/png": "[encoded data removed]",
      "text/plain": [
       "<Figure size 432x288 with 1 Axes>"
      ]
     },
     "metadata": {
      "needs_background": "light"
     },
     "output_type": "display_data"
    },
    {
     "name": "stdout",
     "output_type": "stream",
     "text": [
      "                  0\n",
      "count    245.000000\n",
      "mean       8.962320\n",
      "std     5612.742152\n",
      "min    -9308.081812\n",
      "25%    -2118.187379\n",
      "50%     -668.993227\n",
      "75%      710.596911\n",
      "max    65831.673674\n"
     ]
    },
    {
     "data": {
      "application/javascript": [
       "\n",
       "            setTimeout(function() {\n",
       "                var nbb_cell_id = 35;\n",
       "                var nbb_unformatted_code = \"# fit model\\nmodel = ARIMA(X, order=(5, 1, 0))\\nmodel_fit = model.fit(disp=0)\\nprint(model_fit.summary())\\n# plot residual errors\\nresiduals = pd.DataFrame(model_fit.resid)\\nresiduals.plot()\\nplt.show()\\nresiduals.plot(kind=\\\"kde\\\")\\nplt.show()\\nprint(residuals.describe())\";\n",
       "                var nbb_formatted_code = \"# fit model\\nmodel = ARIMA(X, order=(5, 1, 0))\\nmodel_fit = model.fit(disp=0)\\nprint(model_fit.summary())\\n# plot residual errors\\nresiduals = pd.DataFrame(model_fit.resid)\\nresiduals.plot()\\nplt.show()\\nresiduals.plot(kind=\\\"kde\\\")\\nplt.show()\\nprint(residuals.describe())\";\n",
       "                var nbb_cells = Jupyter.notebook.get_cells();\n",
       "                for (var i = 0; i < nbb_cells.length; ++i) {\n",
       "                    if (nbb_cells[i].input_prompt_number == nbb_cell_id) {\n",
       "                        if (nbb_cells[i].get_text() == nbb_unformatted_code) {\n",
       "                             nbb_cells[i].set_text(nbb_formatted_code);\n",
       "                        }\n",
       "                        break;\n",
       "                    }\n",
       "                }\n",
       "            }, 500);\n",
       "            "
      ],
      "text/plain": [
       "<IPython.core.display.Javascript object>"
      ]
     },
     "metadata": {},
     "output_type": "display_data"
    }
   ],
   "source": [
    "# fit model\n",
    "model = ARIMA(X, order=(5, 1, 0))\n",
    "model_fit = model.fit(disp=0)\n",
    "print(model_fit.summary())\n",
    "# plot residual errors\n",
    "residuals = pd.DataFrame(model_fit.resid)\n",
    "residuals.plot()\n",
    "plt.show()\n",
    "residuals.plot(kind=\"kde\")\n",
    "plt.show()\n",
    "print(residuals.describe())"
   ]
  },
  {
   "cell_type": "code",
   "execution_count": 36,
   "metadata": {
    "scrolled": true
   },
   "outputs": [
    {
     "name": "stdout",
     "output_type": "stream",
     "text": [
      "Test Root MSE: 1772.175\n"
     ]
    },
    {
     "data": {
      "application/javascript": [
       "\n",
       "            setTimeout(function() {\n",
       "                var nbb_cell_id = 36;\n",
       "                var nbb_unformatted_code = \"size = int(len(X) * 0.66)\\ntrain, test = X[0:size], X[size : len(X)]\\nhistory = [x for x in train]\\npredictions = list()\\nfor t in range(len(test)):\\n    model = ARIMA(history, order=(5, 1, 0))\\n    model_fit = model.fit(disp=0)\\n    output = model_fit.forecast()\\n    yhat = output[0]\\n    predictions.append(yhat)\\n    obs = test[t]\\n    history.append(obs)\\nerror = mean_squared_error(test, predictions, squared=False)\\nprint(\\\"Test Root MSE: %.3f\\\" % error)\";\n",
       "                var nbb_formatted_code = \"size = int(len(X) * 0.66)\\ntrain, test = X[0:size], X[size : len(X)]\\nhistory = [x for x in train]\\npredictions = list()\\nfor t in range(len(test)):\\n    model = ARIMA(history, order=(5, 1, 0))\\n    model_fit = model.fit(disp=0)\\n    output = model_fit.forecast()\\n    yhat = output[0]\\n    predictions.append(yhat)\\n    obs = test[t]\\n    history.append(obs)\\nerror = mean_squared_error(test, predictions, squared=False)\\nprint(\\\"Test Root MSE: %.3f\\\" % error)\";\n",
       "                var nbb_cells = Jupyter.notebook.get_cells();\n",
       "                for (var i = 0; i < nbb_cells.length; ++i) {\n",
       "                    if (nbb_cells[i].input_prompt_number == nbb_cell_id) {\n",
       "                        if (nbb_cells[i].get_text() == nbb_unformatted_code) {\n",
       "                             nbb_cells[i].set_text(nbb_formatted_code);\n",
       "                        }\n",
       "                        break;\n",
       "                    }\n",
       "                }\n",
       "            }, 500);\n",
       "            "
      ],
      "text/plain": [
       "<IPython.core.display.Javascript object>"
      ]
     },
     "metadata": {},
     "output_type": "display_data"
    }
   ],
   "source": [
    "size = int(len(X) * 0.66)\n",
    "train, test = X[0:size], X[size : len(X)]\n",
    "history = [x for x in train]\n",
    "predictions = list()\n",
    "for t in range(len(test)):\n",
    "    model = ARIMA(history, order=(5, 1, 0))\n",
    "    model_fit = model.fit(disp=0)\n",
    "    output = model_fit.forecast()\n",
    "    yhat = output[0]\n",
    "    predictions.append(yhat)\n",
    "    obs = test[t]\n",
    "    history.append(obs)\n",
    "error = mean_squared_error(test, predictions, squared=False)\n",
    "print(\"Test Root MSE: %.3f\" % error)"
   ]
  },
  {
   "cell_type": "code",
   "execution_count": 37,
   "metadata": {},
   "outputs": [
    {
     "data": {
      "image/png": "[encoded data removed]",
      "text/plain": [
       "<Figure size 432x288 with 1 Axes>"
      ]
     },
     "metadata": {
      "needs_background": "light"
     },
     "output_type": "display_data"
    },
    {
     "data": {
      "application/javascript": [
       "\n",
       "            setTimeout(function() {\n",
       "                var nbb_cell_id = 37;\n",
       "                var nbb_unformatted_code = \"# plot\\nplt.plot(test)\\nplt.plot(predictions, color=\\\"red\\\")\\nplt.show()\";\n",
       "                var nbb_formatted_code = \"# plot\\nplt.plot(test)\\nplt.plot(predictions, color=\\\"red\\\")\\nplt.show()\";\n",
       "                var nbb_cells = Jupyter.notebook.get_cells();\n",
       "                for (var i = 0; i < nbb_cells.length; ++i) {\n",
       "                    if (nbb_cells[i].input_prompt_number == nbb_cell_id) {\n",
       "                        if (nbb_cells[i].get_text() == nbb_unformatted_code) {\n",
       "                             nbb_cells[i].set_text(nbb_formatted_code);\n",
       "                        }\n",
       "                        break;\n",
       "                    }\n",
       "                }\n",
       "            }, 500);\n",
       "            "
      ],
      "text/plain": [
       "<IPython.core.display.Javascript object>"
      ]
     },
     "metadata": {},
     "output_type": "display_data"
    }
   ],
   "source": [
    "# plot\n",
    "plt.plot(test)\n",
    "plt.plot(predictions, color=\"red\")\n",
    "plt.show()"
   ]
  },
  {
   "cell_type": "markdown",
   "metadata": {},
   "source": [
    "## References\n",
    "\n",
    "1. https://machinelearningmastery.com/arima-for-time-series-forecasting-with-python/\n",
    "2. https://machinelearningmastery.com/time-series-prediction-lstm-recurrent-neural-networks-python-keras/"
   ]
  }
 ],
 "metadata": {
  "kernelspec": {
   "display_name": "Python 3",
   "language": "python",
   "name": "python3"
  },
  "language_info": {
   "codemirror_mode": {
    "name": "ipython",
    "version": 3
   },
   "file_extension": ".py",
   "mimetype": "text/x-python",
   "name": "python",
   "nbconvert_exporter": "python",
   "pygments_lexer": "ipython3",
   "version": "3.8.6"
  }
 },
 "nbformat": 4,
 "nbformat_minor": 4
}
